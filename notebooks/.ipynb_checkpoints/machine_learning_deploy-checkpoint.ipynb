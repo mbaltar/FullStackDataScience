{
 "cells": [
  {
   "cell_type": "markdown",
   "id": "60343520",
   "metadata": {},
   "source": [
    "## Stack - Projeto Human Resources Analytics"
   ]
  },
  {
   "cell_type": "markdown",
   "id": "1b1bad41",
   "metadata": {},
   "source": [
    "### Machine Learning."
   ]
  },
  {
   "cell_type": "code",
   "execution_count": 3,
   "id": "8d9b163d",
   "metadata": {},
   "outputs": [],
   "source": [
    "import pandas as pd\n",
    "import datetime\n",
    "import glob\n",
    "from minio import Minio\n",
    "import numpy as np\n",
    "import matplotlib.pyplot as plt"
   ]
  },
  {
   "cell_type": "code",
   "execution_count": 4,
   "id": "f5274952",
   "metadata": {},
   "outputs": [],
   "source": [
    "client = Minio(\n",
    "        \"localhost:9000\",\n",
    "        access_key=\"minioadmin\",\n",
    "        secret_key=\"minioadmin\",\n",
    "        secure=False\n",
    "    )"
   ]
  },
  {
   "cell_type": "markdown",
   "id": "838ed69f",
   "metadata": {},
   "source": [
    "### Baixando o Dataset do Data Lake."
   ]
  },
  {
   "cell_type": "code",
   "execution_count": 6,
   "id": "bfa60edd",
   "metadata": {},
   "outputs": [],
   "source": [
    "client.fget_object(\n",
    "            \"processing\",\n",
    "            \"employees_dataset.parquet\",\n",
    "            \"temp_.parquet\",\n",
    ")\n",
    "df = pd.read_parquet(\"temp_.parquet\")"
   ]
  },
  {
   "cell_type": "code",
   "execution_count": 7,
   "id": "22142337",
   "metadata": {
    "scrolled": true
   },
   "outputs": [
    {
     "data": {
      "text/html": [
       "<div>\n",
       "<style scoped>\n",
       "    .dataframe tbody tr th:only-of-type {\n",
       "        vertical-align: middle;\n",
       "    }\n",
       "\n",
       "    .dataframe tbody tr th {\n",
       "        vertical-align: top;\n",
       "    }\n",
       "\n",
       "    .dataframe thead th {\n",
       "        text-align: right;\n",
       "    }\n",
       "</style>\n",
       "<table border=\"1\" class=\"dataframe\">\n",
       "  <thead>\n",
       "    <tr style=\"text-align: right;\">\n",
       "      <th></th>\n",
       "      <th>department</th>\n",
       "      <th>salary</th>\n",
       "      <th>left</th>\n",
       "      <th>mean_work_last_3_months</th>\n",
       "      <th>number_projects</th>\n",
       "      <th>satisfaction_level</th>\n",
       "      <th>last_evaluation</th>\n",
       "      <th>time_in_company</th>\n",
       "      <th>work_accident</th>\n",
       "    </tr>\n",
       "  </thead>\n",
       "  <tbody>\n",
       "    <tr>\n",
       "      <th>0</th>\n",
       "      <td>sales</td>\n",
       "      <td>low</td>\n",
       "      <td>1.0</td>\n",
       "      <td>266.000000</td>\n",
       "      <td>2.0</td>\n",
       "      <td>38.0</td>\n",
       "      <td>53.0</td>\n",
       "      <td>3.0</td>\n",
       "      <td>0.0</td>\n",
       "    </tr>\n",
       "    <tr>\n",
       "      <th>1</th>\n",
       "      <td>sales</td>\n",
       "      <td>medium</td>\n",
       "      <td>1.0</td>\n",
       "      <td>252.000000</td>\n",
       "      <td>5.0</td>\n",
       "      <td>80.0</td>\n",
       "      <td>86.0</td>\n",
       "      <td>6.0</td>\n",
       "      <td>0.0</td>\n",
       "    </tr>\n",
       "    <tr>\n",
       "      <th>2</th>\n",
       "      <td>sales</td>\n",
       "      <td>medium</td>\n",
       "      <td>1.0</td>\n",
       "      <td>289.666667</td>\n",
       "      <td>7.0</td>\n",
       "      <td>11.0</td>\n",
       "      <td>88.0</td>\n",
       "      <td>4.0</td>\n",
       "      <td>0.0</td>\n",
       "    </tr>\n",
       "    <tr>\n",
       "      <th>3</th>\n",
       "      <td>sales</td>\n",
       "      <td>low</td>\n",
       "      <td>1.0</td>\n",
       "      <td>275.666667</td>\n",
       "      <td>5.0</td>\n",
       "      <td>72.0</td>\n",
       "      <td>87.0</td>\n",
       "      <td>5.0</td>\n",
       "      <td>0.0</td>\n",
       "    </tr>\n",
       "    <tr>\n",
       "      <th>4</th>\n",
       "      <td>sales</td>\n",
       "      <td>low</td>\n",
       "      <td>1.0</td>\n",
       "      <td>292.333333</td>\n",
       "      <td>2.0</td>\n",
       "      <td>37.0</td>\n",
       "      <td>52.0</td>\n",
       "      <td>3.0</td>\n",
       "      <td>0.0</td>\n",
       "    </tr>\n",
       "  </tbody>\n",
       "</table>\n",
       "</div>"
      ],
      "text/plain": [
       "  department  salary  left  mean_work_last_3_months  number_projects  \\\n",
       "0      sales     low   1.0               266.000000              2.0   \n",
       "1      sales  medium   1.0               252.000000              5.0   \n",
       "2      sales  medium   1.0               289.666667              7.0   \n",
       "3      sales     low   1.0               275.666667              5.0   \n",
       "4      sales     low   1.0               292.333333              2.0   \n",
       "\n",
       "   satisfaction_level  last_evaluation  time_in_company  work_accident  \n",
       "0                38.0             53.0              3.0            0.0  \n",
       "1                80.0             86.0              6.0            0.0  \n",
       "2                11.0             88.0              4.0            0.0  \n",
       "3                72.0             87.0              5.0            0.0  \n",
       "4                37.0             52.0              3.0            0.0  "
      ]
     },
     "execution_count": 7,
     "metadata": {},
     "output_type": "execute_result"
    }
   ],
   "source": [
    "df.head()"
   ]
  },
  {
   "cell_type": "markdown",
   "id": "fc2fa009",
   "metadata": {},
   "source": [
    "#### Organizando o dataset."
   ]
  },
  {
   "cell_type": "code",
   "execution_count": 8,
   "id": "2f5b7a35",
   "metadata": {},
   "outputs": [],
   "source": [
    "df = df[['department', 'salary', 'mean_work_last_3_months',\n",
    "       'number_projects', 'satisfaction_level', 'last_evaluation',\n",
    "       'time_in_company', 'work_accident','left']]"
   ]
  },
  {
   "cell_type": "code",
   "execution_count": 9,
   "id": "b95448bd",
   "metadata": {
    "scrolled": true
   },
   "outputs": [
    {
     "data": {
      "text/html": [
       "<div>\n",
       "<style scoped>\n",
       "    .dataframe tbody tr th:only-of-type {\n",
       "        vertical-align: middle;\n",
       "    }\n",
       "\n",
       "    .dataframe tbody tr th {\n",
       "        vertical-align: top;\n",
       "    }\n",
       "\n",
       "    .dataframe thead th {\n",
       "        text-align: right;\n",
       "    }\n",
       "</style>\n",
       "<table border=\"1\" class=\"dataframe\">\n",
       "  <thead>\n",
       "    <tr style=\"text-align: right;\">\n",
       "      <th></th>\n",
       "      <th>department</th>\n",
       "      <th>salary</th>\n",
       "      <th>mean_work_last_3_months</th>\n",
       "      <th>number_projects</th>\n",
       "      <th>satisfaction_level</th>\n",
       "      <th>last_evaluation</th>\n",
       "      <th>time_in_company</th>\n",
       "      <th>work_accident</th>\n",
       "      <th>left</th>\n",
       "    </tr>\n",
       "  </thead>\n",
       "  <tbody>\n",
       "    <tr>\n",
       "      <th>0</th>\n",
       "      <td>sales</td>\n",
       "      <td>low</td>\n",
       "      <td>266.000000</td>\n",
       "      <td>2.0</td>\n",
       "      <td>38.0</td>\n",
       "      <td>53.0</td>\n",
       "      <td>3.0</td>\n",
       "      <td>0.0</td>\n",
       "      <td>1.0</td>\n",
       "    </tr>\n",
       "    <tr>\n",
       "      <th>1</th>\n",
       "      <td>sales</td>\n",
       "      <td>medium</td>\n",
       "      <td>252.000000</td>\n",
       "      <td>5.0</td>\n",
       "      <td>80.0</td>\n",
       "      <td>86.0</td>\n",
       "      <td>6.0</td>\n",
       "      <td>0.0</td>\n",
       "      <td>1.0</td>\n",
       "    </tr>\n",
       "    <tr>\n",
       "      <th>2</th>\n",
       "      <td>sales</td>\n",
       "      <td>medium</td>\n",
       "      <td>289.666667</td>\n",
       "      <td>7.0</td>\n",
       "      <td>11.0</td>\n",
       "      <td>88.0</td>\n",
       "      <td>4.0</td>\n",
       "      <td>0.0</td>\n",
       "      <td>1.0</td>\n",
       "    </tr>\n",
       "    <tr>\n",
       "      <th>3</th>\n",
       "      <td>sales</td>\n",
       "      <td>low</td>\n",
       "      <td>275.666667</td>\n",
       "      <td>5.0</td>\n",
       "      <td>72.0</td>\n",
       "      <td>87.0</td>\n",
       "      <td>5.0</td>\n",
       "      <td>0.0</td>\n",
       "      <td>1.0</td>\n",
       "    </tr>\n",
       "    <tr>\n",
       "      <th>4</th>\n",
       "      <td>sales</td>\n",
       "      <td>low</td>\n",
       "      <td>292.333333</td>\n",
       "      <td>2.0</td>\n",
       "      <td>37.0</td>\n",
       "      <td>52.0</td>\n",
       "      <td>3.0</td>\n",
       "      <td>0.0</td>\n",
       "      <td>1.0</td>\n",
       "    </tr>\n",
       "  </tbody>\n",
       "</table>\n",
       "</div>"
      ],
      "text/plain": [
       "  department  salary  mean_work_last_3_months  number_projects  \\\n",
       "0      sales     low               266.000000              2.0   \n",
       "1      sales  medium               252.000000              5.0   \n",
       "2      sales  medium               289.666667              7.0   \n",
       "3      sales     low               275.666667              5.0   \n",
       "4      sales     low               292.333333              2.0   \n",
       "\n",
       "   satisfaction_level  last_evaluation  time_in_company  work_accident  left  \n",
       "0                38.0             53.0              3.0            0.0   1.0  \n",
       "1                80.0             86.0              6.0            0.0   1.0  \n",
       "2                11.0             88.0              4.0            0.0   1.0  \n",
       "3                72.0             87.0              5.0            0.0   1.0  \n",
       "4                37.0             52.0              3.0            0.0   1.0  "
      ]
     },
     "execution_count": 9,
     "metadata": {},
     "output_type": "execute_result"
    }
   ],
   "source": [
    "df.head()"
   ]
  },
  {
   "cell_type": "markdown",
   "id": "2b4fa52c",
   "metadata": {},
   "source": [
    "#### Verificando os registros missing."
   ]
  },
  {
   "cell_type": "code",
   "execution_count": 10,
   "id": "65e92b9c",
   "metadata": {},
   "outputs": [
    {
     "data": {
      "text/plain": [
       "department                 1\n",
       "salary                     1\n",
       "mean_work_last_3_months    0\n",
       "number_projects            1\n",
       "satisfaction_level         1\n",
       "last_evaluation            1\n",
       "time_in_company            1\n",
       "work_accident              1\n",
       "left                       1\n",
       "dtype: int64"
      ]
     },
     "execution_count": 10,
     "metadata": {},
     "output_type": "execute_result"
    }
   ],
   "source": [
    "df.isnull().sum()"
   ]
  },
  {
   "cell_type": "code",
   "execution_count": 11,
   "id": "a6559f2c",
   "metadata": {},
   "outputs": [
    {
     "data": {
      "text/html": [
       "<div>\n",
       "<style scoped>\n",
       "    .dataframe tbody tr th:only-of-type {\n",
       "        vertical-align: middle;\n",
       "    }\n",
       "\n",
       "    .dataframe tbody tr th {\n",
       "        vertical-align: top;\n",
       "    }\n",
       "\n",
       "    .dataframe thead th {\n",
       "        text-align: right;\n",
       "    }\n",
       "</style>\n",
       "<table border=\"1\" class=\"dataframe\">\n",
       "  <thead>\n",
       "    <tr style=\"text-align: right;\">\n",
       "      <th></th>\n",
       "      <th>department</th>\n",
       "      <th>salary</th>\n",
       "      <th>mean_work_last_3_months</th>\n",
       "      <th>number_projects</th>\n",
       "      <th>satisfaction_level</th>\n",
       "      <th>last_evaluation</th>\n",
       "      <th>time_in_company</th>\n",
       "      <th>work_accident</th>\n",
       "      <th>left</th>\n",
       "    </tr>\n",
       "  </thead>\n",
       "  <tbody>\n",
       "    <tr>\n",
       "      <th>0</th>\n",
       "      <td>sales</td>\n",
       "      <td>low</td>\n",
       "      <td>266.000000</td>\n",
       "      <td>2.0</td>\n",
       "      <td>38.0</td>\n",
       "      <td>53.0</td>\n",
       "      <td>3.0</td>\n",
       "      <td>0.0</td>\n",
       "      <td>1.0</td>\n",
       "    </tr>\n",
       "    <tr>\n",
       "      <th>1</th>\n",
       "      <td>sales</td>\n",
       "      <td>medium</td>\n",
       "      <td>252.000000</td>\n",
       "      <td>5.0</td>\n",
       "      <td>80.0</td>\n",
       "      <td>86.0</td>\n",
       "      <td>6.0</td>\n",
       "      <td>0.0</td>\n",
       "      <td>1.0</td>\n",
       "    </tr>\n",
       "    <tr>\n",
       "      <th>2</th>\n",
       "      <td>sales</td>\n",
       "      <td>medium</td>\n",
       "      <td>289.666667</td>\n",
       "      <td>7.0</td>\n",
       "      <td>11.0</td>\n",
       "      <td>88.0</td>\n",
       "      <td>4.0</td>\n",
       "      <td>0.0</td>\n",
       "      <td>1.0</td>\n",
       "    </tr>\n",
       "    <tr>\n",
       "      <th>3</th>\n",
       "      <td>sales</td>\n",
       "      <td>low</td>\n",
       "      <td>275.666667</td>\n",
       "      <td>5.0</td>\n",
       "      <td>72.0</td>\n",
       "      <td>87.0</td>\n",
       "      <td>5.0</td>\n",
       "      <td>0.0</td>\n",
       "      <td>1.0</td>\n",
       "    </tr>\n",
       "    <tr>\n",
       "      <th>4</th>\n",
       "      <td>sales</td>\n",
       "      <td>low</td>\n",
       "      <td>292.333333</td>\n",
       "      <td>2.0</td>\n",
       "      <td>37.0</td>\n",
       "      <td>52.0</td>\n",
       "      <td>3.0</td>\n",
       "      <td>0.0</td>\n",
       "      <td>1.0</td>\n",
       "    </tr>\n",
       "    <tr>\n",
       "      <th>...</th>\n",
       "      <td>...</td>\n",
       "      <td>...</td>\n",
       "      <td>...</td>\n",
       "      <td>...</td>\n",
       "      <td>...</td>\n",
       "      <td>...</td>\n",
       "      <td>...</td>\n",
       "      <td>...</td>\n",
       "      <td>...</td>\n",
       "    </tr>\n",
       "    <tr>\n",
       "      <th>14995</th>\n",
       "      <td>technical</td>\n",
       "      <td>low</td>\n",
       "      <td>253.333333</td>\n",
       "      <td>2.0</td>\n",
       "      <td>37.0</td>\n",
       "      <td>48.0</td>\n",
       "      <td>3.0</td>\n",
       "      <td>0.0</td>\n",
       "      <td>1.0</td>\n",
       "    </tr>\n",
       "    <tr>\n",
       "      <th>14996</th>\n",
       "      <td>technical</td>\n",
       "      <td>medium</td>\n",
       "      <td>288.000000</td>\n",
       "      <td>2.0</td>\n",
       "      <td>37.0</td>\n",
       "      <td>53.0</td>\n",
       "      <td>3.0</td>\n",
       "      <td>0.0</td>\n",
       "      <td>1.0</td>\n",
       "    </tr>\n",
       "    <tr>\n",
       "      <th>14997</th>\n",
       "      <td>support</td>\n",
       "      <td>low</td>\n",
       "      <td>272.000000</td>\n",
       "      <td>6.0</td>\n",
       "      <td>11.0</td>\n",
       "      <td>96.0</td>\n",
       "      <td>4.0</td>\n",
       "      <td>0.0</td>\n",
       "      <td>1.0</td>\n",
       "    </tr>\n",
       "    <tr>\n",
       "      <th>14998</th>\n",
       "      <td>support</td>\n",
       "      <td>low</td>\n",
       "      <td>276.666667</td>\n",
       "      <td>2.0</td>\n",
       "      <td>37.0</td>\n",
       "      <td>52.0</td>\n",
       "      <td>3.0</td>\n",
       "      <td>0.0</td>\n",
       "      <td>1.0</td>\n",
       "    </tr>\n",
       "    <tr>\n",
       "      <th>14999</th>\n",
       "      <td>NaN</td>\n",
       "      <td>NaN</td>\n",
       "      <td>261.000000</td>\n",
       "      <td>NaN</td>\n",
       "      <td>NaN</td>\n",
       "      <td>NaN</td>\n",
       "      <td>NaN</td>\n",
       "      <td>NaN</td>\n",
       "      <td>NaN</td>\n",
       "    </tr>\n",
       "  </tbody>\n",
       "</table>\n",
       "<p>15000 rows × 9 columns</p>\n",
       "</div>"
      ],
      "text/plain": [
       "      department  salary  mean_work_last_3_months  number_projects  \\\n",
       "0          sales     low               266.000000              2.0   \n",
       "1          sales  medium               252.000000              5.0   \n",
       "2          sales  medium               289.666667              7.0   \n",
       "3          sales     low               275.666667              5.0   \n",
       "4          sales     low               292.333333              2.0   \n",
       "...          ...     ...                      ...              ...   \n",
       "14995  technical     low               253.333333              2.0   \n",
       "14996  technical  medium               288.000000              2.0   \n",
       "14997    support     low               272.000000              6.0   \n",
       "14998    support     low               276.666667              2.0   \n",
       "14999        NaN     NaN               261.000000              NaN   \n",
       "\n",
       "       satisfaction_level  last_evaluation  time_in_company  work_accident  \\\n",
       "0                    38.0             53.0              3.0            0.0   \n",
       "1                    80.0             86.0              6.0            0.0   \n",
       "2                    11.0             88.0              4.0            0.0   \n",
       "3                    72.0             87.0              5.0            0.0   \n",
       "4                    37.0             52.0              3.0            0.0   \n",
       "...                   ...              ...              ...            ...   \n",
       "14995                37.0             48.0              3.0            0.0   \n",
       "14996                37.0             53.0              3.0            0.0   \n",
       "14997                11.0             96.0              4.0            0.0   \n",
       "14998                37.0             52.0              3.0            0.0   \n",
       "14999                 NaN              NaN              NaN            NaN   \n",
       "\n",
       "       left  \n",
       "0       1.0  \n",
       "1       1.0  \n",
       "2       1.0  \n",
       "3       1.0  \n",
       "4       1.0  \n",
       "...     ...  \n",
       "14995   1.0  \n",
       "14996   1.0  \n",
       "14997   1.0  \n",
       "14998   1.0  \n",
       "14999   NaN  \n",
       "\n",
       "[15000 rows x 9 columns]"
      ]
     },
     "execution_count": 11,
     "metadata": {},
     "output_type": "execute_result"
    }
   ],
   "source": [
    "df[df.notnull()]"
   ]
  },
  {
   "cell_type": "code",
   "execution_count": 12,
   "id": "42ea9765",
   "metadata": {},
   "outputs": [],
   "source": [
    "df = df[:14998]"
   ]
  },
  {
   "cell_type": "markdown",
   "id": "6345aae2",
   "metadata": {},
   "source": [
    "#### Alterando os tipos de dados."
   ]
  },
  {
   "cell_type": "code",
   "execution_count": 13,
   "id": "3bed250e",
   "metadata": {},
   "outputs": [],
   "source": [
    "df[\"number_projects\"] = df[\"number_projects\"].astype(int)\n",
    "df[\"mean_work_last_3_months\"] = df[\"mean_work_last_3_months\"].astype(int)\n",
    "df[\"time_in_company\"] = df[\"time_in_company\"].astype(int)\n",
    "df[\"work_accident\"] = df[\"work_accident\"].astype(int)\n",
    "df[\"left\"] = df[\"left\"].astype(int)"
   ]
  },
  {
   "cell_type": "code",
   "execution_count": 14,
   "id": "d41aab97",
   "metadata": {},
   "outputs": [
    {
     "name": "stdout",
     "output_type": "stream",
     "text": [
      "<class 'pandas.core.frame.DataFrame'>\n",
      "RangeIndex: 14998 entries, 0 to 14997\n",
      "Data columns (total 9 columns):\n",
      " #   Column                   Non-Null Count  Dtype  \n",
      "---  ------                   --------------  -----  \n",
      " 0   department               14998 non-null  object \n",
      " 1   salary                   14998 non-null  object \n",
      " 2   mean_work_last_3_months  14998 non-null  int64  \n",
      " 3   number_projects          14998 non-null  int64  \n",
      " 4   satisfaction_level       14998 non-null  float64\n",
      " 5   last_evaluation          14998 non-null  float64\n",
      " 6   time_in_company          14998 non-null  int64  \n",
      " 7   work_accident            14998 non-null  int64  \n",
      " 8   left                     14998 non-null  int64  \n",
      "dtypes: float64(2), int64(5), object(2)\n",
      "memory usage: 1.0+ MB\n"
     ]
    }
   ],
   "source": [
    "df.info()"
   ]
  },
  {
   "cell_type": "code",
   "execution_count": 15,
   "id": "b3be9995",
   "metadata": {},
   "outputs": [
    {
     "data": {
      "text/html": [
       "<div>\n",
       "<style scoped>\n",
       "    .dataframe tbody tr th:only-of-type {\n",
       "        vertical-align: middle;\n",
       "    }\n",
       "\n",
       "    .dataframe tbody tr th {\n",
       "        vertical-align: top;\n",
       "    }\n",
       "\n",
       "    .dataframe thead th {\n",
       "        text-align: right;\n",
       "    }\n",
       "</style>\n",
       "<table border=\"1\" class=\"dataframe\">\n",
       "  <thead>\n",
       "    <tr style=\"text-align: right;\">\n",
       "      <th></th>\n",
       "      <th>department</th>\n",
       "      <th>salary</th>\n",
       "      <th>mean_work_last_3_months</th>\n",
       "      <th>number_projects</th>\n",
       "      <th>satisfaction_level</th>\n",
       "      <th>last_evaluation</th>\n",
       "      <th>time_in_company</th>\n",
       "      <th>work_accident</th>\n",
       "      <th>left</th>\n",
       "    </tr>\n",
       "  </thead>\n",
       "  <tbody>\n",
       "    <tr>\n",
       "      <th>0</th>\n",
       "      <td>sales</td>\n",
       "      <td>low</td>\n",
       "      <td>266</td>\n",
       "      <td>2</td>\n",
       "      <td>38.0</td>\n",
       "      <td>53.0</td>\n",
       "      <td>3</td>\n",
       "      <td>0</td>\n",
       "      <td>1</td>\n",
       "    </tr>\n",
       "    <tr>\n",
       "      <th>1</th>\n",
       "      <td>sales</td>\n",
       "      <td>medium</td>\n",
       "      <td>252</td>\n",
       "      <td>5</td>\n",
       "      <td>80.0</td>\n",
       "      <td>86.0</td>\n",
       "      <td>6</td>\n",
       "      <td>0</td>\n",
       "      <td>1</td>\n",
       "    </tr>\n",
       "    <tr>\n",
       "      <th>2</th>\n",
       "      <td>sales</td>\n",
       "      <td>medium</td>\n",
       "      <td>289</td>\n",
       "      <td>7</td>\n",
       "      <td>11.0</td>\n",
       "      <td>88.0</td>\n",
       "      <td>4</td>\n",
       "      <td>0</td>\n",
       "      <td>1</td>\n",
       "    </tr>\n",
       "    <tr>\n",
       "      <th>3</th>\n",
       "      <td>sales</td>\n",
       "      <td>low</td>\n",
       "      <td>275</td>\n",
       "      <td>5</td>\n",
       "      <td>72.0</td>\n",
       "      <td>87.0</td>\n",
       "      <td>5</td>\n",
       "      <td>0</td>\n",
       "      <td>1</td>\n",
       "    </tr>\n",
       "    <tr>\n",
       "      <th>4</th>\n",
       "      <td>sales</td>\n",
       "      <td>low</td>\n",
       "      <td>292</td>\n",
       "      <td>2</td>\n",
       "      <td>37.0</td>\n",
       "      <td>52.0</td>\n",
       "      <td>3</td>\n",
       "      <td>0</td>\n",
       "      <td>1</td>\n",
       "    </tr>\n",
       "  </tbody>\n",
       "</table>\n",
       "</div>"
      ],
      "text/plain": [
       "  department  salary  mean_work_last_3_months  number_projects  \\\n",
       "0      sales     low                      266                2   \n",
       "1      sales  medium                      252                5   \n",
       "2      sales  medium                      289                7   \n",
       "3      sales     low                      275                5   \n",
       "4      sales     low                      292                2   \n",
       "\n",
       "   satisfaction_level  last_evaluation  time_in_company  work_accident  left  \n",
       "0                38.0             53.0                3              0     1  \n",
       "1                80.0             86.0                6              0     1  \n",
       "2                11.0             88.0                4              0     1  \n",
       "3                72.0             87.0                5              0     1  \n",
       "4                37.0             52.0                3              0     1  "
      ]
     },
     "execution_count": 15,
     "metadata": {},
     "output_type": "execute_result"
    }
   ],
   "source": [
    "df.head()"
   ]
  },
  {
   "cell_type": "code",
   "execution_count": 16,
   "id": "4c53b942",
   "metadata": {},
   "outputs": [],
   "source": [
    "df = df[:14998]"
   ]
  },
  {
   "cell_type": "markdown",
   "id": "0732373c",
   "metadata": {},
   "source": [
    "#### Renomeando atributos"
   ]
  },
  {
   "cell_type": "code",
   "execution_count": 17,
   "id": "e51e02de",
   "metadata": {},
   "outputs": [],
   "source": [
    "df = df.rename(columns={'satisfaction_level': 'satisfaction', \n",
    "                        'last_evaluation': 'evaluation',\n",
    "                        'number_projects': 'projectCount',\n",
    "                        'mean_work_last_3_months': 'averageMonthlyHours',\n",
    "                        'time_in_company': 'yearsAtCompany',\n",
    "                        'work_accident': 'workAccident',\n",
    "                        'left' : 'turnover'\n",
    "                        })"
   ]
  },
  {
   "cell_type": "code",
   "execution_count": 18,
   "id": "8df7f8fd",
   "metadata": {
    "scrolled": true
   },
   "outputs": [
    {
     "data": {
      "text/html": [
       "<div>\n",
       "<style scoped>\n",
       "    .dataframe tbody tr th:only-of-type {\n",
       "        vertical-align: middle;\n",
       "    }\n",
       "\n",
       "    .dataframe tbody tr th {\n",
       "        vertical-align: top;\n",
       "    }\n",
       "\n",
       "    .dataframe thead th {\n",
       "        text-align: right;\n",
       "    }\n",
       "</style>\n",
       "<table border=\"1\" class=\"dataframe\">\n",
       "  <thead>\n",
       "    <tr style=\"text-align: right;\">\n",
       "      <th></th>\n",
       "      <th>department</th>\n",
       "      <th>salary</th>\n",
       "      <th>averageMonthlyHours</th>\n",
       "      <th>projectCount</th>\n",
       "      <th>satisfaction</th>\n",
       "      <th>evaluation</th>\n",
       "      <th>yearsAtCompany</th>\n",
       "      <th>workAccident</th>\n",
       "      <th>turnover</th>\n",
       "    </tr>\n",
       "  </thead>\n",
       "  <tbody>\n",
       "    <tr>\n",
       "      <th>0</th>\n",
       "      <td>sales</td>\n",
       "      <td>low</td>\n",
       "      <td>266</td>\n",
       "      <td>2</td>\n",
       "      <td>38.0</td>\n",
       "      <td>53.0</td>\n",
       "      <td>3</td>\n",
       "      <td>0</td>\n",
       "      <td>1</td>\n",
       "    </tr>\n",
       "    <tr>\n",
       "      <th>1</th>\n",
       "      <td>sales</td>\n",
       "      <td>medium</td>\n",
       "      <td>252</td>\n",
       "      <td>5</td>\n",
       "      <td>80.0</td>\n",
       "      <td>86.0</td>\n",
       "      <td>6</td>\n",
       "      <td>0</td>\n",
       "      <td>1</td>\n",
       "    </tr>\n",
       "    <tr>\n",
       "      <th>2</th>\n",
       "      <td>sales</td>\n",
       "      <td>medium</td>\n",
       "      <td>289</td>\n",
       "      <td>7</td>\n",
       "      <td>11.0</td>\n",
       "      <td>88.0</td>\n",
       "      <td>4</td>\n",
       "      <td>0</td>\n",
       "      <td>1</td>\n",
       "    </tr>\n",
       "    <tr>\n",
       "      <th>3</th>\n",
       "      <td>sales</td>\n",
       "      <td>low</td>\n",
       "      <td>275</td>\n",
       "      <td>5</td>\n",
       "      <td>72.0</td>\n",
       "      <td>87.0</td>\n",
       "      <td>5</td>\n",
       "      <td>0</td>\n",
       "      <td>1</td>\n",
       "    </tr>\n",
       "    <tr>\n",
       "      <th>4</th>\n",
       "      <td>sales</td>\n",
       "      <td>low</td>\n",
       "      <td>292</td>\n",
       "      <td>2</td>\n",
       "      <td>37.0</td>\n",
       "      <td>52.0</td>\n",
       "      <td>3</td>\n",
       "      <td>0</td>\n",
       "      <td>1</td>\n",
       "    </tr>\n",
       "  </tbody>\n",
       "</table>\n",
       "</div>"
      ],
      "text/plain": [
       "  department  salary  averageMonthlyHours  projectCount  satisfaction  \\\n",
       "0      sales     low                  266             2          38.0   \n",
       "1      sales  medium                  252             5          80.0   \n",
       "2      sales  medium                  289             7          11.0   \n",
       "3      sales     low                  275             5          72.0   \n",
       "4      sales     low                  292             2          37.0   \n",
       "\n",
       "   evaluation  yearsAtCompany  workAccident  turnover  \n",
       "0        53.0               3             0         1  \n",
       "1        86.0               6             0         1  \n",
       "2        88.0               4             0         1  \n",
       "3        87.0               5             0         1  \n",
       "4        52.0               3             0         1  "
      ]
     },
     "execution_count": 18,
     "metadata": {},
     "output_type": "execute_result"
    }
   ],
   "source": [
    "df.head()"
   ]
  },
  {
   "cell_type": "markdown",
   "id": "e8fec143",
   "metadata": {},
   "source": [
    "## Preprocessamento"
   ]
  },
  {
   "cell_type": "markdown",
   "id": "d37217ce",
   "metadata": {},
   "source": [
    "#### Converte os atributos categóricos valores numéricos."
   ]
  },
  {
   "cell_type": "code",
   "execution_count": 19,
   "id": "82cf4bb1",
   "metadata": {},
   "outputs": [],
   "source": [
    "df[\"department\"] = df[\"department\"].astype('category').cat.codes\n",
    "df[\"salary\"] = df[\"salary\"].astype('category').cat.codes"
   ]
  },
  {
   "cell_type": "code",
   "execution_count": 20,
   "id": "8a44672c",
   "metadata": {},
   "outputs": [
    {
     "data": {
      "text/html": [
       "<div>\n",
       "<style scoped>\n",
       "    .dataframe tbody tr th:only-of-type {\n",
       "        vertical-align: middle;\n",
       "    }\n",
       "\n",
       "    .dataframe tbody tr th {\n",
       "        vertical-align: top;\n",
       "    }\n",
       "\n",
       "    .dataframe thead th {\n",
       "        text-align: right;\n",
       "    }\n",
       "</style>\n",
       "<table border=\"1\" class=\"dataframe\">\n",
       "  <thead>\n",
       "    <tr style=\"text-align: right;\">\n",
       "      <th></th>\n",
       "      <th>department</th>\n",
       "      <th>salary</th>\n",
       "      <th>averageMonthlyHours</th>\n",
       "      <th>projectCount</th>\n",
       "      <th>satisfaction</th>\n",
       "      <th>evaluation</th>\n",
       "      <th>yearsAtCompany</th>\n",
       "      <th>workAccident</th>\n",
       "      <th>turnover</th>\n",
       "    </tr>\n",
       "  </thead>\n",
       "  <tbody>\n",
       "    <tr>\n",
       "      <th>0</th>\n",
       "      <td>7</td>\n",
       "      <td>1</td>\n",
       "      <td>266</td>\n",
       "      <td>2</td>\n",
       "      <td>38.0</td>\n",
       "      <td>53.0</td>\n",
       "      <td>3</td>\n",
       "      <td>0</td>\n",
       "      <td>1</td>\n",
       "    </tr>\n",
       "    <tr>\n",
       "      <th>1</th>\n",
       "      <td>7</td>\n",
       "      <td>2</td>\n",
       "      <td>252</td>\n",
       "      <td>5</td>\n",
       "      <td>80.0</td>\n",
       "      <td>86.0</td>\n",
       "      <td>6</td>\n",
       "      <td>0</td>\n",
       "      <td>1</td>\n",
       "    </tr>\n",
       "    <tr>\n",
       "      <th>2</th>\n",
       "      <td>7</td>\n",
       "      <td>2</td>\n",
       "      <td>289</td>\n",
       "      <td>7</td>\n",
       "      <td>11.0</td>\n",
       "      <td>88.0</td>\n",
       "      <td>4</td>\n",
       "      <td>0</td>\n",
       "      <td>1</td>\n",
       "    </tr>\n",
       "    <tr>\n",
       "      <th>3</th>\n",
       "      <td>7</td>\n",
       "      <td>1</td>\n",
       "      <td>275</td>\n",
       "      <td>5</td>\n",
       "      <td>72.0</td>\n",
       "      <td>87.0</td>\n",
       "      <td>5</td>\n",
       "      <td>0</td>\n",
       "      <td>1</td>\n",
       "    </tr>\n",
       "    <tr>\n",
       "      <th>4</th>\n",
       "      <td>7</td>\n",
       "      <td>1</td>\n",
       "      <td>292</td>\n",
       "      <td>2</td>\n",
       "      <td>37.0</td>\n",
       "      <td>52.0</td>\n",
       "      <td>3</td>\n",
       "      <td>0</td>\n",
       "      <td>1</td>\n",
       "    </tr>\n",
       "  </tbody>\n",
       "</table>\n",
       "</div>"
      ],
      "text/plain": [
       "   department  salary  averageMonthlyHours  projectCount  satisfaction  \\\n",
       "0           7       1                  266             2          38.0   \n",
       "1           7       2                  252             5          80.0   \n",
       "2           7       2                  289             7          11.0   \n",
       "3           7       1                  275             5          72.0   \n",
       "4           7       1                  292             2          37.0   \n",
       "\n",
       "   evaluation  yearsAtCompany  workAccident  turnover  \n",
       "0        53.0               3             0         1  \n",
       "1        86.0               6             0         1  \n",
       "2        88.0               4             0         1  \n",
       "3        87.0               5             0         1  \n",
       "4        52.0               3             0         1  "
      ]
     },
     "execution_count": 20,
     "metadata": {},
     "output_type": "execute_result"
    }
   ],
   "source": [
    "df.head()"
   ]
  },
  {
   "cell_type": "markdown",
   "id": "702c4176",
   "metadata": {},
   "source": [
    "#### Separando os conjuntos de dados."
   ]
  },
  {
   "cell_type": "code",
   "execution_count": 21,
   "id": "d1bfeadb",
   "metadata": {},
   "outputs": [],
   "source": [
    "target_name = 'turnover'\n",
    "X = df.drop('turnover', axis=1)\n",
    "y = df[target_name]"
   ]
  },
  {
   "cell_type": "markdown",
   "id": "884842ca",
   "metadata": {},
   "source": [
    "#### Transformando os dados."
   ]
  },
  {
   "cell_type": "code",
   "execution_count": 22,
   "id": "9c78bc04",
   "metadata": {},
   "outputs": [],
   "source": [
    "from sklearn.preprocessing import MinMaxScaler"
   ]
  },
  {
   "cell_type": "code",
   "execution_count": 23,
   "id": "7a8ffe3c",
   "metadata": {},
   "outputs": [],
   "source": [
    "# Colocar todos os atributos na mesma escala\n",
    "scaler = MinMaxScaler()"
   ]
  },
  {
   "cell_type": "code",
   "execution_count": 24,
   "id": "67d7112f",
   "metadata": {},
   "outputs": [],
   "source": [
    "X = scaler.fit_transform(X)"
   ]
  },
  {
   "cell_type": "code",
   "execution_count": 25,
   "id": "360fa4fb",
   "metadata": {},
   "outputs": [
    {
     "data": {
      "text/plain": [
       "array([[0.77777778, 0.5       , 0.38202247, ..., 0.265625  , 0.125     ,\n",
       "        0.        ],\n",
       "       [0.77777778, 1.        , 0.2247191 , ..., 0.78125   , 0.5       ,\n",
       "        0.        ],\n",
       "       [0.77777778, 1.        , 0.64044944, ..., 0.8125    , 0.25      ,\n",
       "        0.        ],\n",
       "       ...,\n",
       "       [1.        , 0.5       , 0.23595506, ..., 0.1875    , 0.125     ,\n",
       "        0.        ],\n",
       "       [1.        , 1.        , 0.62921348, ..., 0.265625  , 0.125     ,\n",
       "        0.        ],\n",
       "       [0.88888889, 0.5       , 0.4494382 , ..., 0.9375    , 0.25      ,\n",
       "        0.        ]])"
      ]
     },
     "execution_count": 25,
     "metadata": {},
     "output_type": "execute_result"
    }
   ],
   "source": [
    "X"
   ]
  },
  {
   "cell_type": "markdown",
   "id": "3f13d4d6",
   "metadata": {},
   "source": [
    "### Separando os conjuntos de dados."
   ]
  },
  {
   "cell_type": "markdown",
   "id": "b9fe0a1a",
   "metadata": {},
   "source": [
    "<img src=\"https://www.researchgate.net/profile/Brian-Mwandau/publication/325870973/figure/fig6/AS:639531594285060@1529487622235/Train-Test-Data-Split.png\" align=\"left\">"
   ]
  },
  {
   "cell_type": "code",
   "execution_count": 26,
   "id": "965c31d7",
   "metadata": {},
   "outputs": [],
   "source": [
    "from sklearn.model_selection import train_test_split"
   ]
  },
  {
   "cell_type": "code",
   "execution_count": 27,
   "id": "ab76666d",
   "metadata": {},
   "outputs": [],
   "source": [
    "X_train, X_test, y_train, y_test = train_test_split(\n",
    "        X\n",
    "       ,y\n",
    "       ,test_size = 0.2\n",
    "       ,random_state = 123\n",
    "       ,stratify = y\n",
    ")"
   ]
  },
  {
   "cell_type": "markdown",
   "id": "648148e9",
   "metadata": {},
   "source": [
    "#### Treinando o algoritmo de arvore de decisão."
   ]
  },
  {
   "cell_type": "code",
   "execution_count": 28,
   "id": "f99c9c51",
   "metadata": {},
   "outputs": [],
   "source": [
    "from sklearn.tree import DecisionTreeClassifier"
   ]
  },
  {
   "cell_type": "code",
   "execution_count": 29,
   "id": "b5b14190",
   "metadata": {},
   "outputs": [],
   "source": [
    "dtree = DecisionTreeClassifier()\n",
    "dtree = dtree.fit(X_train,y_train)"
   ]
  },
  {
   "cell_type": "code",
   "execution_count": 30,
   "id": "ccf50fa2",
   "metadata": {},
   "outputs": [],
   "source": [
    "importances = dtree.feature_importances_\n",
    "feat_names = df.drop(['turnover'],axis=1).columns"
   ]
  },
  {
   "cell_type": "code",
   "execution_count": 31,
   "id": "5479849c",
   "metadata": {},
   "outputs": [
    {
     "data": {
      "image/png": "[encoded data removed]",
      "text/plain": [
       "<Figure size 864x288 with 1 Axes>"
      ]
     },
     "metadata": {
      "needs_background": "light"
     },
     "output_type": "display_data"
    }
   ],
   "source": [
    "indices = np.argsort(importances)[::-1]\n",
    "plt.figure(figsize=(12,4))\n",
    "plt.title(\"Feature importances by DecisionTreeClassifier\")\n",
    "plt.bar(range(len(indices)), importances[indices], color='lightblue',  align=\"center\")\n",
    "plt.xticks(range(len(indices)), feat_names[indices], rotation='vertical',fontsize=14)\n",
    "plt.xlim([-1, len(indices)])\n",
    "plt.show()"
   ]
  },
  {
   "cell_type": "markdown",
   "id": "7a2f50ad",
   "metadata": {},
   "source": [
    "#### Filtrando apenas os atributos relevantes."
   ]
  },
  {
   "cell_type": "code",
   "execution_count": 32,
   "id": "7363c56e",
   "metadata": {},
   "outputs": [],
   "source": [
    "X = df[[\"satisfaction\",\"evaluation\",\"averageMonthlyHours\",\"yearsAtCompany\"]]"
   ]
  },
  {
   "cell_type": "markdown",
   "id": "c608f61f",
   "metadata": {},
   "source": [
    "#### Separando os conjuntos de dados."
   ]
  },
  {
   "cell_type": "code",
   "execution_count": 33,
   "id": "b7bfe235",
   "metadata": {},
   "outputs": [],
   "source": [
    "scaler = MinMaxScaler()"
   ]
  },
  {
   "cell_type": "code",
   "execution_count": 34,
   "id": "9ace1d75",
   "metadata": {},
   "outputs": [],
   "source": [
    "X = scaler.fit_transform(X)"
   ]
  },
  {
   "cell_type": "code",
   "execution_count": 35,
   "id": "6df47cb3",
   "metadata": {},
   "outputs": [],
   "source": [
    "X_train, X_test, y_train, y_test = train_test_split(\n",
    "        X\n",
    "       ,y\n",
    "       ,test_size = 0.2\n",
    "       ,random_state = 123\n",
    "       ,stratify = y\n",
    ")"
   ]
  },
  {
   "cell_type": "code",
   "execution_count": 36,
   "id": "ee19664d",
   "metadata": {},
   "outputs": [
    {
     "data": {
      "text/plain": [
       "array([[0.59340659, 0.21875   , 0.40449438, 0.125     ],\n",
       "       [0.        , 0.703125  , 0.41573034, 0.25      ],\n",
       "       [0.3956044 , 0.28125   , 0.58426966, 0.125     ],\n",
       "       ...,\n",
       "       [0.32967033, 0.3125    , 0.59550562, 0.125     ],\n",
       "       [0.92307692, 0.28125   , 0.46067416, 0.        ],\n",
       "       [0.51648352, 0.5       , 0.53932584, 0.125     ]])"
      ]
     },
     "execution_count": 36,
     "metadata": {},
     "output_type": "execute_result"
    }
   ],
   "source": [
    "X_train"
   ]
  },
  {
   "cell_type": "markdown",
   "id": "233aef35",
   "metadata": {},
   "source": [
    "#### Função do modelo de base."
   ]
  },
  {
   "cell_type": "code",
   "execution_count": 37,
   "id": "862ce2ee",
   "metadata": {},
   "outputs": [],
   "source": [
    "def base_rate_model(X) :\n",
    "    y = np.zeros(X.shape[0])\n",
    "    return y"
   ]
  },
  {
   "cell_type": "markdown",
   "id": "9409f9ad",
   "metadata": {},
   "source": [
    "#### Importando métodos de métrica de avaliação."
   ]
  },
  {
   "cell_type": "code",
   "execution_count": 38,
   "id": "4c3e5be0",
   "metadata": {},
   "outputs": [],
   "source": [
    "from sklearn.metrics import roc_auc_score\n",
    "from sklearn.metrics import accuracy_score\n",
    "from sklearn.metrics import classification_report"
   ]
  },
  {
   "cell_type": "code",
   "execution_count": 39,
   "id": "f5a951ed",
   "metadata": {},
   "outputs": [],
   "source": [
    "def accuracy_result(y_test,y_predict):\n",
    "    acc = accuracy_score(y_test, y_predict)\n",
    "    print (\"Accuracy = %2.2f\" % acc)"
   ]
  },
  {
   "cell_type": "code",
   "execution_count": 40,
   "id": "c26617eb",
   "metadata": {},
   "outputs": [],
   "source": [
    "def roc_classification_report_results(model,y_test,y_predict):\n",
    "    roc_ = roc_auc_score(y_test, y_predict)\n",
    "    classfication_report = classification_report(y_test, y_predict)\n",
    "    \n",
    "    print (\"\\n{} AUC = {}\\n\".format(model, roc_))\n",
    "    print(classfication_report)"
   ]
  },
  {
   "cell_type": "markdown",
   "id": "08b4adeb",
   "metadata": {},
   "source": [
    "#### Análise do modelo de baseline"
   ]
  },
  {
   "cell_type": "code",
   "execution_count": 41,
   "id": "0aebf1fb",
   "metadata": {},
   "outputs": [],
   "source": [
    "y_predict = base_rate_model(X_test)"
   ]
  },
  {
   "cell_type": "code",
   "execution_count": 42,
   "id": "02804d58",
   "metadata": {},
   "outputs": [
    {
     "name": "stdout",
     "output_type": "stream",
     "text": [
      "Accuracy = 0.76\n"
     ]
    }
   ],
   "source": [
    "accuracy_result(y_test, y_predict)"
   ]
  },
  {
   "cell_type": "code",
   "execution_count": 43,
   "id": "905cac5f",
   "metadata": {},
   "outputs": [
    {
     "name": "stdout",
     "output_type": "stream",
     "text": [
      "\n",
      "Base Model AUC = 0.5\n",
      "\n",
      "              precision    recall  f1-score   support\n",
      "\n",
      "           0       0.76      1.00      0.86      2286\n",
      "           1       0.00      0.00      0.00       714\n",
      "\n",
      "    accuracy                           0.76      3000\n",
      "   macro avg       0.38      0.50      0.43      3000\n",
      "weighted avg       0.58      0.76      0.66      3000\n",
      "\n"
     ]
    },
    {
     "name": "stderr",
     "output_type": "stream",
     "text": [
      "/home/mbaltar/anaconda3/envs/caret_env/lib/python3.8/site-packages/sklearn/metrics/_classification.py:1221: UndefinedMetricWarning: Precision and F-score are ill-defined and being set to 0.0 in labels with no predicted samples. Use `zero_division` parameter to control this behavior.\n",
      "  _warn_prf(average, modifier, msg_start, len(result))\n"
     ]
    }
   ],
   "source": [
    "roc_classification_report_results(\"Base Model\", y_test, y_predict)"
   ]
  },
  {
   "cell_type": "markdown",
   "id": "04850a75",
   "metadata": {},
   "source": [
    "### Modelo de Regressão Logística."
   ]
  },
  {
   "cell_type": "markdown",
   "id": "2bb74d4b",
   "metadata": {},
   "source": [
    "<img src=\"https://editor.analyticsvidhya.com/uploads/95588WhatsApp-Image-2020-02-11-at-8.30.11-PM.jpeg\" align=\"left\">"
   ]
  },
  {
   "cell_type": "markdown",
   "id": "9a11b173",
   "metadata": {},
   "source": [
    "#### Instânciando o algoritmo."
   ]
  },
  {
   "cell_type": "code",
   "execution_count": 44,
   "id": "f9f2bc15",
   "metadata": {},
   "outputs": [],
   "source": [
    "from sklearn.linear_model import LogisticRegression\n",
    "logis = LogisticRegression()"
   ]
  },
  {
   "cell_type": "markdown",
   "id": "a6369bc1",
   "metadata": {},
   "source": [
    "#### Realizando o treinamento."
   ]
  },
  {
   "cell_type": "code",
   "execution_count": 45,
   "id": "3f761af6",
   "metadata": {
    "scrolled": true
   },
   "outputs": [
    {
     "data": {
      "text/plain": [
       "LogisticRegression()"
      ]
     },
     "execution_count": 45,
     "metadata": {},
     "output_type": "execute_result"
    }
   ],
   "source": [
    "logis.fit(X_train, y_train)"
   ]
  },
  {
   "cell_type": "markdown",
   "id": "03651c5a",
   "metadata": {},
   "source": [
    "#### Calculando as predições."
   ]
  },
  {
   "cell_type": "code",
   "execution_count": 46,
   "id": "cd138e3c",
   "metadata": {},
   "outputs": [],
   "source": [
    "y_predict = logis.predict(X_test)"
   ]
  },
  {
   "cell_type": "markdown",
   "id": "ad0e75d9",
   "metadata": {},
   "source": [
    "#### Avaliando o resultado."
   ]
  },
  {
   "cell_type": "code",
   "execution_count": 47,
   "id": "da03dbe1",
   "metadata": {},
   "outputs": [
    {
     "name": "stdout",
     "output_type": "stream",
     "text": [
      "Accuracy = 0.77\n"
     ]
    }
   ],
   "source": [
    "accuracy_result(y_test, y_predict)"
   ]
  },
  {
   "cell_type": "code",
   "execution_count": 48,
   "id": "4800a256",
   "metadata": {},
   "outputs": [
    {
     "name": "stdout",
     "output_type": "stream",
     "text": [
      "\n",
      "Logistic Regression AUC = 0.5406235985207731\n",
      "\n",
      "              precision    recall  f1-score   support\n",
      "\n",
      "           0       0.78      0.97      0.86      2286\n",
      "           1       0.55      0.11      0.18       714\n",
      "\n",
      "    accuracy                           0.77      3000\n",
      "   macro avg       0.66      0.54      0.52      3000\n",
      "weighted avg       0.72      0.77      0.70      3000\n",
      "\n"
     ]
    }
   ],
   "source": [
    "roc_classification_report_results(\"Logistic Regression\", y_test, y_predict)"
   ]
  },
  {
   "cell_type": "markdown",
   "id": "00aaac7c",
   "metadata": {},
   "source": [
    "### Modelo de Arvore de decisão."
   ]
  },
  {
   "cell_type": "markdown",
   "id": "4e970892",
   "metadata": {},
   "source": [
    "<img src=\"https://www.devops.ae/wp-content/uploads/2021/04/decision-tree-classification-algorithm.png\" align=\"left\">"
   ]
  },
  {
   "cell_type": "markdown",
   "id": "33524aac",
   "metadata": {},
   "source": [
    "#### Instânciando o algoritmo."
   ]
  },
  {
   "cell_type": "code",
   "execution_count": 49,
   "id": "95c50872",
   "metadata": {},
   "outputs": [],
   "source": [
    "from sklearn.tree import DecisionTreeClassifier\n",
    "dtree = DecisionTreeClassifier()"
   ]
  },
  {
   "cell_type": "markdown",
   "id": "3d7ad1c8",
   "metadata": {},
   "source": [
    "#### Realizando o treinamento."
   ]
  },
  {
   "cell_type": "code",
   "execution_count": 50,
   "id": "edcca31f",
   "metadata": {
    "scrolled": true
   },
   "outputs": [],
   "source": [
    "dtree = dtree.fit(X_train,y_train)"
   ]
  },
  {
   "cell_type": "markdown",
   "id": "d3ac4673",
   "metadata": {},
   "source": [
    "#### Calculando as predições."
   ]
  },
  {
   "cell_type": "code",
   "execution_count": 51,
   "id": "9197176d",
   "metadata": {},
   "outputs": [],
   "source": [
    "y_predict = dtree.predict(X_test)"
   ]
  },
  {
   "cell_type": "markdown",
   "id": "56a32296",
   "metadata": {},
   "source": [
    "#### Avaliando o resultado."
   ]
  },
  {
   "cell_type": "code",
   "execution_count": 52,
   "id": "bf8ad9d3",
   "metadata": {},
   "outputs": [
    {
     "name": "stdout",
     "output_type": "stream",
     "text": [
      "Accuracy = 0.75\n"
     ]
    }
   ],
   "source": [
    "accuracy_result(y_test, y_predict)"
   ]
  },
  {
   "cell_type": "code",
   "execution_count": 53,
   "id": "93b86d22",
   "metadata": {},
   "outputs": [
    {
     "name": "stdout",
     "output_type": "stream",
     "text": [
      "\n",
      "Decision Tree AUC = 0.6679826786357588\n",
      "\n",
      "              precision    recall  f1-score   support\n",
      "\n",
      "           0       0.84      0.82      0.83      2286\n",
      "           1       0.47      0.51      0.49       714\n",
      "\n",
      "    accuracy                           0.75      3000\n",
      "   macro avg       0.66      0.67      0.66      3000\n",
      "weighted avg       0.76      0.75      0.75      3000\n",
      "\n"
     ]
    }
   ],
   "source": [
    "roc_classification_report_results(\"Decision Tree\", y_test, y_predict)"
   ]
  },
  {
   "cell_type": "markdown",
   "id": "cd27a5ab",
   "metadata": {},
   "source": [
    "### Modelo de Floresta Aleatória (Random Forest)"
   ]
  },
  {
   "cell_type": "markdown",
   "id": "49f3bd76",
   "metadata": {},
   "source": [
    "<img src=\"https://miro.medium.com/max/1200/0*YEwFetXQGPB8aDFV\" align=\"left\">"
   ]
  },
  {
   "cell_type": "markdown",
   "id": "9b42b9d5",
   "metadata": {},
   "source": [
    "#### Instânciando o algoritmo."
   ]
  },
  {
   "cell_type": "code",
   "execution_count": 54,
   "id": "6dab769b",
   "metadata": {},
   "outputs": [],
   "source": [
    "from sklearn.ensemble import RandomForestClassifier"
   ]
  },
  {
   "cell_type": "code",
   "execution_count": 55,
   "id": "3e0c74f5",
   "metadata": {},
   "outputs": [],
   "source": [
    "rf = RandomForestClassifier()"
   ]
  },
  {
   "cell_type": "markdown",
   "id": "193d0577",
   "metadata": {},
   "source": [
    "#### Realizando o treinamento."
   ]
  },
  {
   "cell_type": "code",
   "execution_count": 56,
   "id": "8469a48a",
   "metadata": {
    "scrolled": true
   },
   "outputs": [],
   "source": [
    "rf = rf.fit(X_train,y_train)"
   ]
  },
  {
   "cell_type": "markdown",
   "id": "3a77f475",
   "metadata": {},
   "source": [
    "#### Calculando as predições."
   ]
  },
  {
   "cell_type": "code",
   "execution_count": 57,
   "id": "58e16f6c",
   "metadata": {},
   "outputs": [],
   "source": [
    "y_predict = rf.predict(X_test)"
   ]
  },
  {
   "cell_type": "markdown",
   "id": "5b56117a",
   "metadata": {},
   "source": [
    "#### Avaliando o resultado."
   ]
  },
  {
   "cell_type": "code",
   "execution_count": 58,
   "id": "ee9583e8",
   "metadata": {},
   "outputs": [
    {
     "name": "stdout",
     "output_type": "stream",
     "text": [
      "Accuracy = 0.83\n"
     ]
    }
   ],
   "source": [
    "accuracy_result(y_test, y_predict)"
   ]
  },
  {
   "cell_type": "code",
   "execution_count": 59,
   "id": "8853f34b",
   "metadata": {},
   "outputs": [
    {
     "name": "stdout",
     "output_type": "stream",
     "text": [
      "\n",
      "Random Forest AUC = 0.72244645889852\n",
      "\n",
      "              precision    recall  f1-score   support\n",
      "\n",
      "           0       0.86      0.92      0.89      2286\n",
      "           1       0.68      0.52      0.59       714\n",
      "\n",
      "    accuracy                           0.83      3000\n",
      "   macro avg       0.77      0.72      0.74      3000\n",
      "weighted avg       0.82      0.83      0.82      3000\n",
      "\n"
     ]
    }
   ],
   "source": [
    "roc_classification_report_results(\"Random Forest\", y_test, y_predict)"
   ]
  },
  {
   "cell_type": "markdown",
   "id": "69e52b1b",
   "metadata": {},
   "source": [
    "### Pycaret"
   ]
  },
  {
   "cell_type": "markdown",
   "id": "49d25f56",
   "metadata": {},
   "source": [
    "<img src=\"https://miro.medium.com/max/1024/0*T3u62CFmhRgur_ZZ.png\" align=\"left\">"
   ]
  },
  {
   "cell_type": "markdown",
   "id": "d918ab13",
   "metadata": {},
   "source": [
    "<img src=\"https://i.pinimg.com/originals/28/c3/de/28c3decb69d2b89c42e3979a9565d84b.jpg\" align=\"left\">"
   ]
  },
  {
   "cell_type": "code",
   "execution_count": 58,
   "id": "85d2e73d",
   "metadata": {
    "collapsed": true,
    "jupyter": {
     "outputs_hidden": true
    },
    "tags": []
   },
   "outputs": [
    {
     "name": "stdout",
     "output_type": "stream",
     "text": [
      "Requirement already satisfied: pycaret in /home/mbaltar/anaconda3/lib/python3.9/site-packages (2.2.2)\n",
      "Requirement already satisfied: numpy>=1.17 in /home/mbaltar/anaconda3/lib/python3.9/site-packages (from pycaret) (1.19.5)\n",
      "Requirement already satisfied: matplotlib in /home/mbaltar/anaconda3/lib/python3.9/site-packages (from pycaret) (3.4.3)\n",
      "Requirement already satisfied: ipywidgets in /home/mbaltar/anaconda3/lib/python3.9/site-packages (from pycaret) (7.6.5)\n",
      "Requirement already satisfied: kmodes>=0.10.1 in /home/mbaltar/anaconda3/lib/python3.9/site-packages (from pycaret) (0.11.1)\n",
      "Requirement already satisfied: spacy in /home/mbaltar/anaconda3/lib/python3.9/site-packages (from pycaret) (3.2.1)\n",
      "Requirement already satisfied: mlflow in /home/mbaltar/anaconda3/lib/python3.9/site-packages (from pycaret) (1.22.0)\n",
      "Requirement already satisfied: gensim in /home/mbaltar/anaconda3/lib/python3.9/site-packages (from pycaret) (4.1.2)\n",
      "Requirement already satisfied: scikit-learn>=0.23.2 in /home/mbaltar/anaconda3/lib/python3.9/site-packages (from pycaret) (1.0.2)\n",
      "Requirement already satisfied: cufflinks>=0.17.0 in /home/mbaltar/anaconda3/lib/python3.9/site-packages (from pycaret) (0.17.3)\n",
      "Requirement already satisfied: pyLDAvis in /home/mbaltar/anaconda3/lib/python3.9/site-packages (from pycaret) (3.2.2)\n",
      "Requirement already satisfied: seaborn in /home/mbaltar/anaconda3/lib/python3.9/site-packages (from pycaret) (0.11.2)\n",
      "Requirement already satisfied: scikit-plot in /home/mbaltar/anaconda3/lib/python3.9/site-packages (from pycaret) (0.3.7)\n",
      "Requirement already satisfied: nltk in /home/mbaltar/anaconda3/lib/python3.9/site-packages (from pycaret) (3.6.5)\n",
      "Requirement already satisfied: pyod in /home/mbaltar/anaconda3/lib/python3.9/site-packages (from pycaret) (0.9.7)\n",
      "Requirement already satisfied: pandas-profiling>=2.8.0 in /home/mbaltar/anaconda3/lib/python3.9/site-packages (from pycaret) (3.1.0)\n",
      "Requirement already satisfied: imbalanced-learn>=0.7.0 in /home/mbaltar/anaconda3/lib/python3.9/site-packages (from pycaret) (0.9.0)\n",
      "Requirement already satisfied: joblib in /home/mbaltar/anaconda3/lib/python3.9/site-packages (from pycaret) (1.0.1)\n",
      "Requirement already satisfied: wordcloud in /home/mbaltar/anaconda3/lib/python3.9/site-packages (from pycaret) (1.8.1)\n",
      "Requirement already satisfied: textblob in /home/mbaltar/anaconda3/lib/python3.9/site-packages (from pycaret) (0.17.1)\n",
      "Requirement already satisfied: catboost>=0.23.2 in /home/mbaltar/anaconda3/lib/python3.9/site-packages (from pycaret) (1.0.4)\n",
      "Requirement already satisfied: umap-learn in /home/mbaltar/anaconda3/lib/python3.9/site-packages (from pycaret) (0.5.2)\n",
      "Requirement already satisfied: lightgbm>=2.3.1 in /home/mbaltar/anaconda3/lib/python3.9/site-packages (from pycaret) (3.3.2)\n",
      "Requirement already satisfied: pandas in /home/mbaltar/anaconda3/lib/python3.9/site-packages (from pycaret) (1.3.4)\n",
      "Requirement already satisfied: plotly>=4.4.1 in /home/mbaltar/anaconda3/lib/python3.9/site-packages (from pycaret) (5.5.0)\n",
      "Requirement already satisfied: xgboost>=1.1.0 in /home/mbaltar/anaconda3/lib/python3.9/site-packages (from pycaret) (1.5.1)\n",
      "Requirement already satisfied: mlxtend in /home/mbaltar/anaconda3/lib/python3.9/site-packages (from pycaret) (0.19.0)\n",
      "Requirement already satisfied: yellowbrick>=1.0.1 in /home/mbaltar/anaconda3/lib/python3.9/site-packages (from pycaret) (1.3.post1)\n",
      "Requirement already satisfied: IPython in /home/mbaltar/anaconda3/lib/python3.9/site-packages (from pycaret) (7.29.0)\n",
      "Requirement already satisfied: six in /home/mbaltar/anaconda3/lib/python3.9/site-packages (from catboost>=0.23.2->pycaret) (1.16.0)\n",
      "Requirement already satisfied: scipy in /home/mbaltar/anaconda3/lib/python3.9/site-packages (from catboost>=0.23.2->pycaret) (1.7.1)\n",
      "Requirement already satisfied: graphviz in /home/mbaltar/anaconda3/lib/python3.9/site-packages (from catboost>=0.23.2->pycaret) (0.19.1)\n",
      "Requirement already satisfied: setuptools>=34.4.1 in /home/mbaltar/anaconda3/lib/python3.9/site-packages (from cufflinks>=0.17.0->pycaret) (58.0.4)\n",
      "Requirement already satisfied: colorlover>=0.2.1 in /home/mbaltar/anaconda3/lib/python3.9/site-packages (from cufflinks>=0.17.0->pycaret) (0.3.0)\n",
      "Requirement already satisfied: threadpoolctl>=2.0.0 in /home/mbaltar/anaconda3/lib/python3.9/site-packages (from imbalanced-learn>=0.7.0->pycaret) (2.2.0)\n",
      "Requirement already satisfied: backcall in /home/mbaltar/anaconda3/lib/python3.9/site-packages (from IPython->pycaret) (0.2.0)\n",
      "Requirement already satisfied: decorator in /home/mbaltar/anaconda3/lib/python3.9/site-packages (from IPython->pycaret) (5.1.0)\n",
      "Requirement already satisfied: pygments in /home/mbaltar/anaconda3/lib/python3.9/site-packages (from IPython->pycaret) (2.10.0)\n",
      "Requirement already satisfied: traitlets>=4.2 in /home/mbaltar/anaconda3/lib/python3.9/site-packages (from IPython->pycaret) (5.1.0)\n",
      "Requirement already satisfied: pexpect>4.3 in /home/mbaltar/anaconda3/lib/python3.9/site-packages (from IPython->pycaret) (4.8.0)\n",
      "Requirement already satisfied: jedi>=0.16 in /home/mbaltar/anaconda3/lib/python3.9/site-packages (from IPython->pycaret) (0.18.0)\n",
      "Requirement already satisfied: matplotlib-inline in /home/mbaltar/anaconda3/lib/python3.9/site-packages (from IPython->pycaret) (0.1.2)\n",
      "Requirement already satisfied: pickleshare in /home/mbaltar/anaconda3/lib/python3.9/site-packages (from IPython->pycaret) (0.7.5)\n",
      "Requirement already satisfied: prompt-toolkit!=3.0.0,!=3.0.1,<3.1.0,>=2.0.0 in /home/mbaltar/anaconda3/lib/python3.9/site-packages (from IPython->pycaret) (3.0.20)\n",
      "Requirement already satisfied: jupyterlab-widgets>=1.0.0 in /home/mbaltar/anaconda3/lib/python3.9/site-packages (from ipywidgets->pycaret) (1.0.0)\n",
      "Requirement already satisfied: nbformat>=4.2.0 in /home/mbaltar/anaconda3/lib/python3.9/site-packages (from ipywidgets->pycaret) (5.1.3)\n",
      "Requirement already satisfied: ipykernel>=4.5.1 in /home/mbaltar/anaconda3/lib/python3.9/site-packages (from ipywidgets->pycaret) (6.4.1)\n",
      "Requirement already satisfied: widgetsnbextension~=3.5.0 in /home/mbaltar/anaconda3/lib/python3.9/site-packages (from ipywidgets->pycaret) (3.5.1)\n",
      "Requirement already satisfied: ipython-genutils~=0.2.0 in /home/mbaltar/anaconda3/lib/python3.9/site-packages (from ipywidgets->pycaret) (0.2.0)\n",
      "Requirement already satisfied: tornado<7.0,>=4.2 in /home/mbaltar/anaconda3/lib/python3.9/site-packages (from ipykernel>=4.5.1->ipywidgets->pycaret) (6.1)\n",
      "Requirement already satisfied: jupyter-client<8.0 in /home/mbaltar/anaconda3/lib/python3.9/site-packages (from ipykernel>=4.5.1->ipywidgets->pycaret) (6.1.12)\n",
      "Requirement already satisfied: debugpy<2.0,>=1.0.0 in /home/mbaltar/anaconda3/lib/python3.9/site-packages (from ipykernel>=4.5.1->ipywidgets->pycaret) (1.4.1)\n",
      "Requirement already satisfied: parso<0.9.0,>=0.8.0 in /home/mbaltar/anaconda3/lib/python3.9/site-packages (from jedi>=0.16->IPython->pycaret) (0.8.2)\n",
      "Requirement already satisfied: python-dateutil>=2.1 in /home/mbaltar/anaconda3/lib/python3.9/site-packages (from jupyter-client<8.0->ipykernel>=4.5.1->ipywidgets->pycaret) (2.8.2)\n",
      "Requirement already satisfied: jupyter-core>=4.6.0 in /home/mbaltar/anaconda3/lib/python3.9/site-packages (from jupyter-client<8.0->ipykernel>=4.5.1->ipywidgets->pycaret) (4.8.1)\n",
      "Requirement already satisfied: pyzmq>=13 in /home/mbaltar/anaconda3/lib/python3.9/site-packages (from jupyter-client<8.0->ipykernel>=4.5.1->ipywidgets->pycaret) (22.2.1)\n",
      "Requirement already satisfied: wheel in /home/mbaltar/anaconda3/lib/python3.9/site-packages (from lightgbm>=2.3.1->pycaret) (0.37.0)\n",
      "Requirement already satisfied: jsonschema!=2.5.0,>=2.4 in /home/mbaltar/anaconda3/lib/python3.9/site-packages (from nbformat>=4.2.0->ipywidgets->pycaret) (3.2.0)\n",
      "Requirement already satisfied: pyrsistent>=0.14.0 in /home/mbaltar/anaconda3/lib/python3.9/site-packages (from jsonschema!=2.5.0,>=2.4->nbformat>=4.2.0->ipywidgets->pycaret) (0.18.0)\n",
      "Requirement already satisfied: attrs>=17.4.0 in /home/mbaltar/anaconda3/lib/python3.9/site-packages (from jsonschema!=2.5.0,>=2.4->nbformat>=4.2.0->ipywidgets->pycaret) (21.2.0)\n",
      "Requirement already satisfied: pytz>=2017.3 in /home/mbaltar/anaconda3/lib/python3.9/site-packages (from pandas->pycaret) (2021.3)\n",
      "Requirement already satisfied: visions[type_image_path]==0.7.4 in /home/mbaltar/anaconda3/lib/python3.9/site-packages (from pandas-profiling>=2.8.0->pycaret) (0.7.4)\n",
      "Requirement already satisfied: requests>=2.24.0 in /home/mbaltar/anaconda3/lib/python3.9/site-packages (from pandas-profiling>=2.8.0->pycaret) (2.26.0)\n",
      "Requirement already satisfied: htmlmin>=0.1.12 in /home/mbaltar/anaconda3/lib/python3.9/site-packages (from pandas-profiling>=2.8.0->pycaret) (0.1.12)\n",
      "Requirement already satisfied: phik>=0.11.1 in /home/mbaltar/anaconda3/lib/python3.9/site-packages (from pandas-profiling>=2.8.0->pycaret) (0.12.0)\n",
      "Requirement already satisfied: tangled-up-in-unicode==0.1.0 in /home/mbaltar/anaconda3/lib/python3.9/site-packages (from pandas-profiling>=2.8.0->pycaret) (0.1.0)\n",
      "Requirement already satisfied: jinja2>=2.11.1 in /home/mbaltar/anaconda3/lib/python3.9/site-packages (from pandas-profiling>=2.8.0->pycaret) (2.11.3)\n",
      "Requirement already satisfied: PyYAML>=5.0.0 in /home/mbaltar/anaconda3/lib/python3.9/site-packages (from pandas-profiling>=2.8.0->pycaret) (6.0)\n",
      "Requirement already satisfied: missingno>=0.4.2 in /home/mbaltar/anaconda3/lib/python3.9/site-packages (from pandas-profiling>=2.8.0->pycaret) (0.5.0)\n",
      "Requirement already satisfied: tqdm>=4.48.2 in /home/mbaltar/anaconda3/lib/python3.9/site-packages (from pandas-profiling>=2.8.0->pycaret) (4.62.3)\n",
      "Requirement already satisfied: pydantic>=1.8.1 in /home/mbaltar/anaconda3/lib/python3.9/site-packages (from pandas-profiling>=2.8.0->pycaret) (1.8.2)\n",
      "Requirement already satisfied: multimethod>=1.4 in /home/mbaltar/anaconda3/lib/python3.9/site-packages (from pandas-profiling>=2.8.0->pycaret) (1.6)\n",
      "Requirement already satisfied: markupsafe~=2.0.1 in /home/mbaltar/anaconda3/lib/python3.9/site-packages (from pandas-profiling>=2.8.0->pycaret) (2.0.1)\n",
      "Requirement already satisfied: networkx>=2.4 in /home/mbaltar/anaconda3/lib/python3.9/site-packages (from visions[type_image_path]==0.7.4->pandas-profiling>=2.8.0->pycaret) (2.6.3)\n",
      "Requirement already satisfied: Pillow in /home/mbaltar/anaconda3/lib/python3.9/site-packages (from visions[type_image_path]==0.7.4->pandas-profiling>=2.8.0->pycaret) (8.4.0)\n",
      "Requirement already satisfied: imagehash in /home/mbaltar/anaconda3/lib/python3.9/site-packages (from visions[type_image_path]==0.7.4->pandas-profiling>=2.8.0->pycaret) (4.2.1)\n",
      "Requirement already satisfied: pyparsing>=2.2.1 in /home/mbaltar/anaconda3/lib/python3.9/site-packages (from matplotlib->pycaret) (3.0.4)\n",
      "Requirement already satisfied: cycler>=0.10 in /home/mbaltar/anaconda3/lib/python3.9/site-packages (from matplotlib->pycaret) (0.10.0)\n",
      "Requirement already satisfied: kiwisolver>=1.0.1 in /home/mbaltar/anaconda3/lib/python3.9/site-packages (from matplotlib->pycaret) (1.3.1)\n",
      "Requirement already satisfied: ptyprocess>=0.5 in /home/mbaltar/anaconda3/lib/python3.9/site-packages (from pexpect>4.3->IPython->pycaret) (0.7.0)\n",
      "Requirement already satisfied: tenacity>=6.2.0 in /home/mbaltar/anaconda3/lib/python3.9/site-packages (from plotly>=4.4.1->pycaret) (8.0.1)\n",
      "Requirement already satisfied: wcwidth in /home/mbaltar/anaconda3/lib/python3.9/site-packages (from prompt-toolkit!=3.0.0,!=3.0.1,<3.1.0,>=2.0.0->IPython->pycaret) (0.2.5)\n",
      "Requirement already satisfied: typing-extensions>=3.7.4.3 in /home/mbaltar/anaconda3/lib/python3.9/site-packages (from pydantic>=1.8.1->pandas-profiling>=2.8.0->pycaret) (3.10.0.2)\n",
      "Requirement already satisfied: urllib3<1.27,>=1.21.1 in /home/mbaltar/anaconda3/lib/python3.9/site-packages (from requests>=2.24.0->pandas-profiling>=2.8.0->pycaret) (1.26.7)\n",
      "Requirement already satisfied: idna<4,>=2.5 in /home/mbaltar/anaconda3/lib/python3.9/site-packages (from requests>=2.24.0->pandas-profiling>=2.8.0->pycaret) (3.2)\n",
      "Requirement already satisfied: certifi>=2017.4.17 in /home/mbaltar/anaconda3/lib/python3.9/site-packages (from requests>=2.24.0->pandas-profiling>=2.8.0->pycaret) (2021.10.8)\n",
      "Requirement already satisfied: charset-normalizer~=2.0.0 in /home/mbaltar/anaconda3/lib/python3.9/site-packages (from requests>=2.24.0->pandas-profiling>=2.8.0->pycaret) (2.0.4)\n",
      "Requirement already satisfied: notebook>=4.4.1 in /home/mbaltar/anaconda3/lib/python3.9/site-packages (from widgetsnbextension~=3.5.0->ipywidgets->pycaret) (6.4.5)\n",
      "Requirement already satisfied: Send2Trash>=1.5.0 in /home/mbaltar/anaconda3/lib/python3.9/site-packages (from notebook>=4.4.1->widgetsnbextension~=3.5.0->ipywidgets->pycaret) (1.8.0)\n",
      "Requirement already satisfied: argon2-cffi in /home/mbaltar/anaconda3/lib/python3.9/site-packages (from notebook>=4.4.1->widgetsnbextension~=3.5.0->ipywidgets->pycaret) (20.1.0)\n",
      "Requirement already satisfied: prometheus-client in /home/mbaltar/anaconda3/lib/python3.9/site-packages (from notebook>=4.4.1->widgetsnbextension~=3.5.0->ipywidgets->pycaret) (0.11.0)\n",
      "Requirement already satisfied: nbconvert in /home/mbaltar/anaconda3/lib/python3.9/site-packages (from notebook>=4.4.1->widgetsnbextension~=3.5.0->ipywidgets->pycaret) (6.1.0)\n",
      "Requirement already satisfied: terminado>=0.8.3 in /home/mbaltar/anaconda3/lib/python3.9/site-packages (from notebook>=4.4.1->widgetsnbextension~=3.5.0->ipywidgets->pycaret) (0.9.4)\n",
      "Requirement already satisfied: cffi>=1.0.0 in /home/mbaltar/anaconda3/lib/python3.9/site-packages (from argon2-cffi->notebook>=4.4.1->widgetsnbextension~=3.5.0->ipywidgets->pycaret) (1.14.6)\n",
      "Requirement already satisfied: pycparser in /home/mbaltar/anaconda3/lib/python3.9/site-packages (from cffi>=1.0.0->argon2-cffi->notebook>=4.4.1->widgetsnbextension~=3.5.0->ipywidgets->pycaret) (2.20)\n",
      "Requirement already satisfied: smart-open>=1.8.1 in /home/mbaltar/anaconda3/lib/python3.9/site-packages (from gensim->pycaret) (5.2.1)\n",
      "Requirement already satisfied: PyWavelets in /home/mbaltar/anaconda3/lib/python3.9/site-packages (from imagehash->visions[type_image_path]==0.7.4->pandas-profiling>=2.8.0->pycaret) (1.1.1)\n",
      "Requirement already satisfied: click>=7.0 in /home/mbaltar/anaconda3/lib/python3.9/site-packages (from mlflow->pycaret) (8.0.3)\n",
      "Requirement already satisfied: importlib-metadata!=4.7.0,>=3.7.0 in /home/mbaltar/anaconda3/lib/python3.9/site-packages (from mlflow->pycaret) (4.8.1)\n",
      "Requirement already satisfied: docker>=4.0.0 in /home/mbaltar/anaconda3/lib/python3.9/site-packages (from mlflow->pycaret) (5.0.3)\n",
      "Requirement already satisfied: sqlalchemy in /home/mbaltar/anaconda3/lib/python3.9/site-packages (from mlflow->pycaret) (1.4.22)\n",
      "Requirement already satisfied: packaging in /home/mbaltar/anaconda3/lib/python3.9/site-packages (from mlflow->pycaret) (21.0)\n",
      "Requirement already satisfied: Flask in /home/mbaltar/anaconda3/lib/python3.9/site-packages (from mlflow->pycaret) (1.1.2)\n",
      "Requirement already satisfied: querystring-parser in /home/mbaltar/anaconda3/lib/python3.9/site-packages (from mlflow->pycaret) (1.2.4)\n",
      "Requirement already satisfied: alembic<=1.4.1 in /home/mbaltar/anaconda3/lib/python3.9/site-packages (from mlflow->pycaret) (1.4.1)\n",
      "Requirement already satisfied: entrypoints in /home/mbaltar/anaconda3/lib/python3.9/site-packages (from mlflow->pycaret) (0.3)\n",
      "Requirement already satisfied: protobuf>=3.7.0 in /home/mbaltar/anaconda3/lib/python3.9/site-packages (from mlflow->pycaret) (3.19.3)\n",
      "Requirement already satisfied: prometheus-flask-exporter in /home/mbaltar/anaconda3/lib/python3.9/site-packages (from mlflow->pycaret) (0.18.7)\n",
      "Requirement already satisfied: cloudpickle in /home/mbaltar/anaconda3/lib/python3.9/site-packages (from mlflow->pycaret) (2.0.0)\n",
      "Requirement already satisfied: sqlparse>=0.3.1 in /home/mbaltar/anaconda3/lib/python3.9/site-packages (from mlflow->pycaret) (0.4.2)\n",
      "Requirement already satisfied: gitpython>=2.1.0 in /home/mbaltar/anaconda3/lib/python3.9/site-packages (from mlflow->pycaret) (3.1.26)\n",
      "Requirement already satisfied: gunicorn in /home/mbaltar/anaconda3/lib/python3.9/site-packages (from mlflow->pycaret) (20.1.0)\n",
      "Requirement already satisfied: databricks-cli>=0.8.7 in /home/mbaltar/anaconda3/lib/python3.9/site-packages (from mlflow->pycaret) (0.16.2)\n",
      "Requirement already satisfied: python-editor>=0.3 in /home/mbaltar/anaconda3/lib/python3.9/site-packages (from alembic<=1.4.1->mlflow->pycaret) (1.0.4)\n",
      "Requirement already satisfied: Mako in /home/mbaltar/anaconda3/lib/python3.9/site-packages (from alembic<=1.4.1->mlflow->pycaret) (1.1.6)\n",
      "Requirement already satisfied: tabulate>=0.7.7 in /home/mbaltar/anaconda3/lib/python3.9/site-packages (from databricks-cli>=0.8.7->mlflow->pycaret) (0.8.9)\n",
      "Requirement already satisfied: websocket-client>=0.32.0 in /home/mbaltar/anaconda3/lib/python3.9/site-packages (from docker>=4.0.0->mlflow->pycaret) (1.2.3)\n",
      "Requirement already satisfied: gitdb<5,>=4.0.1 in /home/mbaltar/anaconda3/lib/python3.9/site-packages (from gitpython>=2.1.0->mlflow->pycaret) (4.0.9)\n",
      "Requirement already satisfied: smmap<6,>=3.0.1 in /home/mbaltar/anaconda3/lib/python3.9/site-packages (from gitdb<5,>=4.0.1->gitpython>=2.1.0->mlflow->pycaret) (5.0.0)\n",
      "Requirement already satisfied: zipp>=0.5 in /home/mbaltar/anaconda3/lib/python3.9/site-packages (from importlib-metadata!=4.7.0,>=3.7.0->mlflow->pycaret) (3.6.0)\n",
      "Requirement already satisfied: greenlet!=0.4.17 in /home/mbaltar/anaconda3/lib/python3.9/site-packages (from sqlalchemy->mlflow->pycaret) (1.1.1)\n",
      "Requirement already satisfied: Werkzeug>=0.15 in /home/mbaltar/anaconda3/lib/python3.9/site-packages (from Flask->mlflow->pycaret) (2.0.2)\n",
      "Requirement already satisfied: itsdangerous>=0.24 in /home/mbaltar/anaconda3/lib/python3.9/site-packages (from Flask->mlflow->pycaret) (2.0.1)\n",
      "Requirement already satisfied: pandocfilters>=1.4.1 in /home/mbaltar/anaconda3/lib/python3.9/site-packages (from nbconvert->notebook>=4.4.1->widgetsnbextension~=3.5.0->ipywidgets->pycaret) (1.4.3)\n",
      "Requirement already satisfied: jupyterlab-pygments in /home/mbaltar/anaconda3/lib/python3.9/site-packages (from nbconvert->notebook>=4.4.1->widgetsnbextension~=3.5.0->ipywidgets->pycaret) (0.1.2)\n",
      "Requirement already satisfied: testpath in /home/mbaltar/anaconda3/lib/python3.9/site-packages (from nbconvert->notebook>=4.4.1->widgetsnbextension~=3.5.0->ipywidgets->pycaret) (0.5.0)\n",
      "Requirement already satisfied: defusedxml in /home/mbaltar/anaconda3/lib/python3.9/site-packages (from nbconvert->notebook>=4.4.1->widgetsnbextension~=3.5.0->ipywidgets->pycaret) (0.7.1)\n",
      "Requirement already satisfied: nbclient<0.6.0,>=0.5.0 in /home/mbaltar/anaconda3/lib/python3.9/site-packages (from nbconvert->notebook>=4.4.1->widgetsnbextension~=3.5.0->ipywidgets->pycaret) (0.5.3)\n",
      "Requirement already satisfied: bleach in /home/mbaltar/anaconda3/lib/python3.9/site-packages (from nbconvert->notebook>=4.4.1->widgetsnbextension~=3.5.0->ipywidgets->pycaret) (4.0.0)\n",
      "Requirement already satisfied: mistune<2,>=0.8.1 in /home/mbaltar/anaconda3/lib/python3.9/site-packages (from nbconvert->notebook>=4.4.1->widgetsnbextension~=3.5.0->ipywidgets->pycaret) (0.8.4)\n",
      "Requirement already satisfied: nest-asyncio in /home/mbaltar/anaconda3/lib/python3.9/site-packages (from nbclient<0.6.0,>=0.5.0->nbconvert->notebook>=4.4.1->widgetsnbextension~=3.5.0->ipywidgets->pycaret) (1.5.1)\n",
      "Requirement already satisfied: async-generator in /home/mbaltar/anaconda3/lib/python3.9/site-packages (from nbclient<0.6.0,>=0.5.0->nbconvert->notebook>=4.4.1->widgetsnbextension~=3.5.0->ipywidgets->pycaret) (1.10)\n",
      "Requirement already satisfied: webencodings in /home/mbaltar/anaconda3/lib/python3.9/site-packages (from bleach->nbconvert->notebook>=4.4.1->widgetsnbextension~=3.5.0->ipywidgets->pycaret) (0.5.1)\n",
      "Requirement already satisfied: regex>=2021.8.3 in /home/mbaltar/anaconda3/lib/python3.9/site-packages (from nltk->pycaret) (2021.8.3)\n",
      "Requirement already satisfied: funcy in /home/mbaltar/anaconda3/lib/python3.9/site-packages (from pyLDAvis->pycaret) (1.17)\n",
      "Requirement already satisfied: future in /home/mbaltar/anaconda3/lib/python3.9/site-packages (from pyLDAvis->pycaret) (0.18.2)\n",
      "Requirement already satisfied: numexpr in /home/mbaltar/anaconda3/lib/python3.9/site-packages (from pyLDAvis->pycaret) (2.7.3)\n",
      "Requirement already satisfied: numba>=0.35 in /home/mbaltar/anaconda3/lib/python3.9/site-packages (from pyod->pycaret) (0.54.1)\n",
      "Requirement already satisfied: statsmodels in /home/mbaltar/anaconda3/lib/python3.9/site-packages (from pyod->pycaret) (0.12.2)\n",
      "Requirement already satisfied: llvmlite<0.38,>=0.37.0rc1 in /home/mbaltar/anaconda3/lib/python3.9/site-packages (from numba>=0.35->pyod->pycaret) (0.37.0)\n",
      "Requirement already satisfied: spacy-legacy<3.1.0,>=3.0.8 in /home/mbaltar/anaconda3/lib/python3.9/site-packages (from spacy->pycaret) (3.0.8)\n",
      "Requirement already satisfied: wasabi<1.1.0,>=0.8.1 in /home/mbaltar/anaconda3/lib/python3.9/site-packages (from spacy->pycaret) (0.9.0)\n",
      "Requirement already satisfied: srsly<3.0.0,>=2.4.1 in /home/mbaltar/anaconda3/lib/python3.9/site-packages (from spacy->pycaret) (2.4.2)\n",
      "Requirement already satisfied: cymem<2.1.0,>=2.0.2 in /home/mbaltar/anaconda3/lib/python3.9/site-packages (from spacy->pycaret) (2.0.6)\n",
      "Requirement already satisfied: catalogue<2.1.0,>=2.0.6 in /home/mbaltar/anaconda3/lib/python3.9/site-packages (from spacy->pycaret) (2.0.6)\n",
      "Requirement already satisfied: typer<0.5.0,>=0.3.0 in /home/mbaltar/anaconda3/lib/python3.9/site-packages (from spacy->pycaret) (0.4.0)\n",
      "Requirement already satisfied: preshed<3.1.0,>=3.0.2 in /home/mbaltar/anaconda3/lib/python3.9/site-packages (from spacy->pycaret) (3.0.6)\n",
      "Requirement already satisfied: langcodes<4.0.0,>=3.2.0 in /home/mbaltar/anaconda3/lib/python3.9/site-packages (from spacy->pycaret) (3.3.0)\n",
      "Requirement already satisfied: spacy-loggers<2.0.0,>=1.0.0 in /home/mbaltar/anaconda3/lib/python3.9/site-packages (from spacy->pycaret) (1.0.1)\n",
      "Requirement already satisfied: pathy>=0.3.5 in /home/mbaltar/anaconda3/lib/python3.9/site-packages (from spacy->pycaret) (0.6.1)\n",
      "Requirement already satisfied: murmurhash<1.1.0,>=0.28.0 in /home/mbaltar/anaconda3/lib/python3.9/site-packages (from spacy->pycaret) (1.0.6)\n",
      "Requirement already satisfied: blis<0.8.0,>=0.4.0 in /home/mbaltar/anaconda3/lib/python3.9/site-packages (from spacy->pycaret) (0.7.5)\n",
      "Requirement already satisfied: thinc<8.1.0,>=8.0.12 in /home/mbaltar/anaconda3/lib/python3.9/site-packages (from spacy->pycaret) (8.0.13)\n",
      "Requirement already satisfied: patsy>=0.5 in /home/mbaltar/anaconda3/lib/python3.9/site-packages (from statsmodels->pyod->pycaret) (0.5.2)\n",
      "Requirement already satisfied: pynndescent>=0.5 in /home/mbaltar/anaconda3/lib/python3.9/site-packages (from umap-learn->pycaret) (0.5.5)\n",
      "Note: you may need to restart the kernel to use updated packages.\n"
     ]
    }
   ],
   "source": [
    "pip install pycaret"
   ]
  },
  {
   "cell_type": "markdown",
   "id": "421de2bf",
   "metadata": {},
   "source": [
    "#### Importando os métodos."
   ]
  },
  {
   "cell_type": "code",
   "execution_count": 60,
   "id": "0552d213",
   "metadata": {},
   "outputs": [],
   "source": [
    "from pycaret.classification import *"
   ]
  },
  {
   "cell_type": "markdown",
   "id": "2fa945c2",
   "metadata": {},
   "source": [
    "#### Definindo o Setup."
   ]
  },
  {
   "cell_type": "code",
   "execution_count": 61,
   "id": "5de9ab9b",
   "metadata": {
    "scrolled": true,
    "tags": []
   },
   "outputs": [
    {
     "data": {
      "text/html": [
       "<style type=\"text/css\">\n",
       "#T_869db_row29_col1, #T_869db_row44_col1, #T_869db_row58_col1 {\n",
       "  background-color: lightgreen;\n",
       "}\n",
       "</style>\n",
       "<table id=\"T_869db_\">\n",
       "  <thead>\n",
       "    <tr>\n",
       "      <th class=\"blank level0\" >&nbsp;</th>\n",
       "      <th class=\"col_heading level0 col0\" >Description</th>\n",
       "      <th class=\"col_heading level0 col1\" >Value</th>\n",
       "    </tr>\n",
       "  </thead>\n",
       "  <tbody>\n",
       "    <tr>\n",
       "      <th id=\"T_869db_level0_row0\" class=\"row_heading level0 row0\" >0</th>\n",
       "      <td id=\"T_869db_row0_col0\" class=\"data row0 col0\" >session_id</td>\n",
       "      <td id=\"T_869db_row0_col1\" class=\"data row0 col1\" >4596</td>\n",
       "    </tr>\n",
       "    <tr>\n",
       "      <th id=\"T_869db_level0_row1\" class=\"row_heading level0 row1\" >1</th>\n",
       "      <td id=\"T_869db_row1_col0\" class=\"data row1 col0\" >Target</td>\n",
       "      <td id=\"T_869db_row1_col1\" class=\"data row1 col1\" >turnover</td>\n",
       "    </tr>\n",
       "    <tr>\n",
       "      <th id=\"T_869db_level0_row2\" class=\"row_heading level0 row2\" >2</th>\n",
       "      <td id=\"T_869db_row2_col0\" class=\"data row2 col0\" >Target Type</td>\n",
       "      <td id=\"T_869db_row2_col1\" class=\"data row2 col1\" >Binary</td>\n",
       "    </tr>\n",
       "    <tr>\n",
       "      <th id=\"T_869db_level0_row3\" class=\"row_heading level0 row3\" >3</th>\n",
       "      <td id=\"T_869db_row3_col0\" class=\"data row3 col0\" >Label Encoded</td>\n",
       "      <td id=\"T_869db_row3_col1\" class=\"data row3 col1\" >None</td>\n",
       "    </tr>\n",
       "    <tr>\n",
       "      <th id=\"T_869db_level0_row4\" class=\"row_heading level0 row4\" >4</th>\n",
       "      <td id=\"T_869db_row4_col0\" class=\"data row4 col0\" >Original Data</td>\n",
       "      <td id=\"T_869db_row4_col1\" class=\"data row4 col1\" >(14998, 5)</td>\n",
       "    </tr>\n",
       "    <tr>\n",
       "      <th id=\"T_869db_level0_row5\" class=\"row_heading level0 row5\" >5</th>\n",
       "      <td id=\"T_869db_row5_col0\" class=\"data row5 col0\" >Missing Values</td>\n",
       "      <td id=\"T_869db_row5_col1\" class=\"data row5 col1\" >False</td>\n",
       "    </tr>\n",
       "    <tr>\n",
       "      <th id=\"T_869db_level0_row6\" class=\"row_heading level0 row6\" >6</th>\n",
       "      <td id=\"T_869db_row6_col0\" class=\"data row6 col0\" >Numeric Features</td>\n",
       "      <td id=\"T_869db_row6_col1\" class=\"data row6 col1\" >4</td>\n",
       "    </tr>\n",
       "    <tr>\n",
       "      <th id=\"T_869db_level0_row7\" class=\"row_heading level0 row7\" >7</th>\n",
       "      <td id=\"T_869db_row7_col0\" class=\"data row7 col0\" >Categorical Features</td>\n",
       "      <td id=\"T_869db_row7_col1\" class=\"data row7 col1\" >0</td>\n",
       "    </tr>\n",
       "    <tr>\n",
       "      <th id=\"T_869db_level0_row8\" class=\"row_heading level0 row8\" >8</th>\n",
       "      <td id=\"T_869db_row8_col0\" class=\"data row8 col0\" >Ordinal Features</td>\n",
       "      <td id=\"T_869db_row8_col1\" class=\"data row8 col1\" >False</td>\n",
       "    </tr>\n",
       "    <tr>\n",
       "      <th id=\"T_869db_level0_row9\" class=\"row_heading level0 row9\" >9</th>\n",
       "      <td id=\"T_869db_row9_col0\" class=\"data row9 col0\" >High Cardinality Features</td>\n",
       "      <td id=\"T_869db_row9_col1\" class=\"data row9 col1\" >False</td>\n",
       "    </tr>\n",
       "    <tr>\n",
       "      <th id=\"T_869db_level0_row10\" class=\"row_heading level0 row10\" >10</th>\n",
       "      <td id=\"T_869db_row10_col0\" class=\"data row10 col0\" >High Cardinality Method</td>\n",
       "      <td id=\"T_869db_row10_col1\" class=\"data row10 col1\" >None</td>\n",
       "    </tr>\n",
       "    <tr>\n",
       "      <th id=\"T_869db_level0_row11\" class=\"row_heading level0 row11\" >11</th>\n",
       "      <td id=\"T_869db_row11_col0\" class=\"data row11 col0\" >Transformed Train Set</td>\n",
       "      <td id=\"T_869db_row11_col1\" class=\"data row11 col1\" >(10498, 4)</td>\n",
       "    </tr>\n",
       "    <tr>\n",
       "      <th id=\"T_869db_level0_row12\" class=\"row_heading level0 row12\" >12</th>\n",
       "      <td id=\"T_869db_row12_col0\" class=\"data row12 col0\" >Transformed Test Set</td>\n",
       "      <td id=\"T_869db_row12_col1\" class=\"data row12 col1\" >(4500, 4)</td>\n",
       "    </tr>\n",
       "    <tr>\n",
       "      <th id=\"T_869db_level0_row13\" class=\"row_heading level0 row13\" >13</th>\n",
       "      <td id=\"T_869db_row13_col0\" class=\"data row13 col0\" >Shuffle Train-Test</td>\n",
       "      <td id=\"T_869db_row13_col1\" class=\"data row13 col1\" >True</td>\n",
       "    </tr>\n",
       "    <tr>\n",
       "      <th id=\"T_869db_level0_row14\" class=\"row_heading level0 row14\" >14</th>\n",
       "      <td id=\"T_869db_row14_col0\" class=\"data row14 col0\" >Stratify Train-Test</td>\n",
       "      <td id=\"T_869db_row14_col1\" class=\"data row14 col1\" >True</td>\n",
       "    </tr>\n",
       "    <tr>\n",
       "      <th id=\"T_869db_level0_row15\" class=\"row_heading level0 row15\" >15</th>\n",
       "      <td id=\"T_869db_row15_col0\" class=\"data row15 col0\" >Fold Generator</td>\n",
       "      <td id=\"T_869db_row15_col1\" class=\"data row15 col1\" >StratifiedKFold</td>\n",
       "    </tr>\n",
       "    <tr>\n",
       "      <th id=\"T_869db_level0_row16\" class=\"row_heading level0 row16\" >16</th>\n",
       "      <td id=\"T_869db_row16_col0\" class=\"data row16 col0\" >Fold Number</td>\n",
       "      <td id=\"T_869db_row16_col1\" class=\"data row16 col1\" >10</td>\n",
       "    </tr>\n",
       "    <tr>\n",
       "      <th id=\"T_869db_level0_row17\" class=\"row_heading level0 row17\" >17</th>\n",
       "      <td id=\"T_869db_row17_col0\" class=\"data row17 col0\" >CPU Jobs</td>\n",
       "      <td id=\"T_869db_row17_col1\" class=\"data row17 col1\" >-1</td>\n",
       "    </tr>\n",
       "    <tr>\n",
       "      <th id=\"T_869db_level0_row18\" class=\"row_heading level0 row18\" >18</th>\n",
       "      <td id=\"T_869db_row18_col0\" class=\"data row18 col0\" >Use GPU</td>\n",
       "      <td id=\"T_869db_row18_col1\" class=\"data row18 col1\" >False</td>\n",
       "    </tr>\n",
       "    <tr>\n",
       "      <th id=\"T_869db_level0_row19\" class=\"row_heading level0 row19\" >19</th>\n",
       "      <td id=\"T_869db_row19_col0\" class=\"data row19 col0\" >Log Experiment</td>\n",
       "      <td id=\"T_869db_row19_col1\" class=\"data row19 col1\" >False</td>\n",
       "    </tr>\n",
       "    <tr>\n",
       "      <th id=\"T_869db_level0_row20\" class=\"row_heading level0 row20\" >20</th>\n",
       "      <td id=\"T_869db_row20_col0\" class=\"data row20 col0\" >Experiment Name</td>\n",
       "      <td id=\"T_869db_row20_col1\" class=\"data row20 col1\" >clf-default-name</td>\n",
       "    </tr>\n",
       "    <tr>\n",
       "      <th id=\"T_869db_level0_row21\" class=\"row_heading level0 row21\" >21</th>\n",
       "      <td id=\"T_869db_row21_col0\" class=\"data row21 col0\" >USI</td>\n",
       "      <td id=\"T_869db_row21_col1\" class=\"data row21 col1\" >7969</td>\n",
       "    </tr>\n",
       "    <tr>\n",
       "      <th id=\"T_869db_level0_row22\" class=\"row_heading level0 row22\" >22</th>\n",
       "      <td id=\"T_869db_row22_col0\" class=\"data row22 col0\" >Imputation Type</td>\n",
       "      <td id=\"T_869db_row22_col1\" class=\"data row22 col1\" >simple</td>\n",
       "    </tr>\n",
       "    <tr>\n",
       "      <th id=\"T_869db_level0_row23\" class=\"row_heading level0 row23\" >23</th>\n",
       "      <td id=\"T_869db_row23_col0\" class=\"data row23 col0\" >Iterative Imputation Iteration</td>\n",
       "      <td id=\"T_869db_row23_col1\" class=\"data row23 col1\" >None</td>\n",
       "    </tr>\n",
       "    <tr>\n",
       "      <th id=\"T_869db_level0_row24\" class=\"row_heading level0 row24\" >24</th>\n",
       "      <td id=\"T_869db_row24_col0\" class=\"data row24 col0\" >Numeric Imputer</td>\n",
       "      <td id=\"T_869db_row24_col1\" class=\"data row24 col1\" >mean</td>\n",
       "    </tr>\n",
       "    <tr>\n",
       "      <th id=\"T_869db_level0_row25\" class=\"row_heading level0 row25\" >25</th>\n",
       "      <td id=\"T_869db_row25_col0\" class=\"data row25 col0\" >Iterative Imputation Numeric Model</td>\n",
       "      <td id=\"T_869db_row25_col1\" class=\"data row25 col1\" >None</td>\n",
       "    </tr>\n",
       "    <tr>\n",
       "      <th id=\"T_869db_level0_row26\" class=\"row_heading level0 row26\" >26</th>\n",
       "      <td id=\"T_869db_row26_col0\" class=\"data row26 col0\" >Categorical Imputer</td>\n",
       "      <td id=\"T_869db_row26_col1\" class=\"data row26 col1\" >constant</td>\n",
       "    </tr>\n",
       "    <tr>\n",
       "      <th id=\"T_869db_level0_row27\" class=\"row_heading level0 row27\" >27</th>\n",
       "      <td id=\"T_869db_row27_col0\" class=\"data row27 col0\" >Iterative Imputation Categorical Model</td>\n",
       "      <td id=\"T_869db_row27_col1\" class=\"data row27 col1\" >None</td>\n",
       "    </tr>\n",
       "    <tr>\n",
       "      <th id=\"T_869db_level0_row28\" class=\"row_heading level0 row28\" >28</th>\n",
       "      <td id=\"T_869db_row28_col0\" class=\"data row28 col0\" >Unknown Categoricals Handling</td>\n",
       "      <td id=\"T_869db_row28_col1\" class=\"data row28 col1\" >least_frequent</td>\n",
       "    </tr>\n",
       "    <tr>\n",
       "      <th id=\"T_869db_level0_row29\" class=\"row_heading level0 row29\" >29</th>\n",
       "      <td id=\"T_869db_row29_col0\" class=\"data row29 col0\" >Normalize</td>\n",
       "      <td id=\"T_869db_row29_col1\" class=\"data row29 col1\" >True</td>\n",
       "    </tr>\n",
       "    <tr>\n",
       "      <th id=\"T_869db_level0_row30\" class=\"row_heading level0 row30\" >30</th>\n",
       "      <td id=\"T_869db_row30_col0\" class=\"data row30 col0\" >Normalize Method</td>\n",
       "      <td id=\"T_869db_row30_col1\" class=\"data row30 col1\" >minmax</td>\n",
       "    </tr>\n",
       "    <tr>\n",
       "      <th id=\"T_869db_level0_row31\" class=\"row_heading level0 row31\" >31</th>\n",
       "      <td id=\"T_869db_row31_col0\" class=\"data row31 col0\" >Transformation</td>\n",
       "      <td id=\"T_869db_row31_col1\" class=\"data row31 col1\" >False</td>\n",
       "    </tr>\n",
       "    <tr>\n",
       "      <th id=\"T_869db_level0_row32\" class=\"row_heading level0 row32\" >32</th>\n",
       "      <td id=\"T_869db_row32_col0\" class=\"data row32 col0\" >Transformation Method</td>\n",
       "      <td id=\"T_869db_row32_col1\" class=\"data row32 col1\" >None</td>\n",
       "    </tr>\n",
       "    <tr>\n",
       "      <th id=\"T_869db_level0_row33\" class=\"row_heading level0 row33\" >33</th>\n",
       "      <td id=\"T_869db_row33_col0\" class=\"data row33 col0\" >PCA</td>\n",
       "      <td id=\"T_869db_row33_col1\" class=\"data row33 col1\" >False</td>\n",
       "    </tr>\n",
       "    <tr>\n",
       "      <th id=\"T_869db_level0_row34\" class=\"row_heading level0 row34\" >34</th>\n",
       "      <td id=\"T_869db_row34_col0\" class=\"data row34 col0\" >PCA Method</td>\n",
       "      <td id=\"T_869db_row34_col1\" class=\"data row34 col1\" >None</td>\n",
       "    </tr>\n",
       "    <tr>\n",
       "      <th id=\"T_869db_level0_row35\" class=\"row_heading level0 row35\" >35</th>\n",
       "      <td id=\"T_869db_row35_col0\" class=\"data row35 col0\" >PCA Components</td>\n",
       "      <td id=\"T_869db_row35_col1\" class=\"data row35 col1\" >None</td>\n",
       "    </tr>\n",
       "    <tr>\n",
       "      <th id=\"T_869db_level0_row36\" class=\"row_heading level0 row36\" >36</th>\n",
       "      <td id=\"T_869db_row36_col0\" class=\"data row36 col0\" >Ignore Low Variance</td>\n",
       "      <td id=\"T_869db_row36_col1\" class=\"data row36 col1\" >False</td>\n",
       "    </tr>\n",
       "    <tr>\n",
       "      <th id=\"T_869db_level0_row37\" class=\"row_heading level0 row37\" >37</th>\n",
       "      <td id=\"T_869db_row37_col0\" class=\"data row37 col0\" >Combine Rare Levels</td>\n",
       "      <td id=\"T_869db_row37_col1\" class=\"data row37 col1\" >False</td>\n",
       "    </tr>\n",
       "    <tr>\n",
       "      <th id=\"T_869db_level0_row38\" class=\"row_heading level0 row38\" >38</th>\n",
       "      <td id=\"T_869db_row38_col0\" class=\"data row38 col0\" >Rare Level Threshold</td>\n",
       "      <td id=\"T_869db_row38_col1\" class=\"data row38 col1\" >None</td>\n",
       "    </tr>\n",
       "    <tr>\n",
       "      <th id=\"T_869db_level0_row39\" class=\"row_heading level0 row39\" >39</th>\n",
       "      <td id=\"T_869db_row39_col0\" class=\"data row39 col0\" >Numeric Binning</td>\n",
       "      <td id=\"T_869db_row39_col1\" class=\"data row39 col1\" >False</td>\n",
       "    </tr>\n",
       "    <tr>\n",
       "      <th id=\"T_869db_level0_row40\" class=\"row_heading level0 row40\" >40</th>\n",
       "      <td id=\"T_869db_row40_col0\" class=\"data row40 col0\" >Remove Outliers</td>\n",
       "      <td id=\"T_869db_row40_col1\" class=\"data row40 col1\" >False</td>\n",
       "    </tr>\n",
       "    <tr>\n",
       "      <th id=\"T_869db_level0_row41\" class=\"row_heading level0 row41\" >41</th>\n",
       "      <td id=\"T_869db_row41_col0\" class=\"data row41 col0\" >Outliers Threshold</td>\n",
       "      <td id=\"T_869db_row41_col1\" class=\"data row41 col1\" >None</td>\n",
       "    </tr>\n",
       "    <tr>\n",
       "      <th id=\"T_869db_level0_row42\" class=\"row_heading level0 row42\" >42</th>\n",
       "      <td id=\"T_869db_row42_col0\" class=\"data row42 col0\" >Remove Multicollinearity</td>\n",
       "      <td id=\"T_869db_row42_col1\" class=\"data row42 col1\" >False</td>\n",
       "    </tr>\n",
       "    <tr>\n",
       "      <th id=\"T_869db_level0_row43\" class=\"row_heading level0 row43\" >43</th>\n",
       "      <td id=\"T_869db_row43_col0\" class=\"data row43 col0\" >Multicollinearity Threshold</td>\n",
       "      <td id=\"T_869db_row43_col1\" class=\"data row43 col1\" >None</td>\n",
       "    </tr>\n",
       "    <tr>\n",
       "      <th id=\"T_869db_level0_row44\" class=\"row_heading level0 row44\" >44</th>\n",
       "      <td id=\"T_869db_row44_col0\" class=\"data row44 col0\" >Remove Perfect Collinearity</td>\n",
       "      <td id=\"T_869db_row44_col1\" class=\"data row44 col1\" >True</td>\n",
       "    </tr>\n",
       "    <tr>\n",
       "      <th id=\"T_869db_level0_row45\" class=\"row_heading level0 row45\" >45</th>\n",
       "      <td id=\"T_869db_row45_col0\" class=\"data row45 col0\" >Clustering</td>\n",
       "      <td id=\"T_869db_row45_col1\" class=\"data row45 col1\" >False</td>\n",
       "    </tr>\n",
       "    <tr>\n",
       "      <th id=\"T_869db_level0_row46\" class=\"row_heading level0 row46\" >46</th>\n",
       "      <td id=\"T_869db_row46_col0\" class=\"data row46 col0\" >Clustering Iteration</td>\n",
       "      <td id=\"T_869db_row46_col1\" class=\"data row46 col1\" >None</td>\n",
       "    </tr>\n",
       "    <tr>\n",
       "      <th id=\"T_869db_level0_row47\" class=\"row_heading level0 row47\" >47</th>\n",
       "      <td id=\"T_869db_row47_col0\" class=\"data row47 col0\" >Polynomial Features</td>\n",
       "      <td id=\"T_869db_row47_col1\" class=\"data row47 col1\" >False</td>\n",
       "    </tr>\n",
       "    <tr>\n",
       "      <th id=\"T_869db_level0_row48\" class=\"row_heading level0 row48\" >48</th>\n",
       "      <td id=\"T_869db_row48_col0\" class=\"data row48 col0\" >Polynomial Degree</td>\n",
       "      <td id=\"T_869db_row48_col1\" class=\"data row48 col1\" >None</td>\n",
       "    </tr>\n",
       "    <tr>\n",
       "      <th id=\"T_869db_level0_row49\" class=\"row_heading level0 row49\" >49</th>\n",
       "      <td id=\"T_869db_row49_col0\" class=\"data row49 col0\" >Trignometry Features</td>\n",
       "      <td id=\"T_869db_row49_col1\" class=\"data row49 col1\" >False</td>\n",
       "    </tr>\n",
       "    <tr>\n",
       "      <th id=\"T_869db_level0_row50\" class=\"row_heading level0 row50\" >50</th>\n",
       "      <td id=\"T_869db_row50_col0\" class=\"data row50 col0\" >Polynomial Threshold</td>\n",
       "      <td id=\"T_869db_row50_col1\" class=\"data row50 col1\" >None</td>\n",
       "    </tr>\n",
       "    <tr>\n",
       "      <th id=\"T_869db_level0_row51\" class=\"row_heading level0 row51\" >51</th>\n",
       "      <td id=\"T_869db_row51_col0\" class=\"data row51 col0\" >Group Features</td>\n",
       "      <td id=\"T_869db_row51_col1\" class=\"data row51 col1\" >False</td>\n",
       "    </tr>\n",
       "    <tr>\n",
       "      <th id=\"T_869db_level0_row52\" class=\"row_heading level0 row52\" >52</th>\n",
       "      <td id=\"T_869db_row52_col0\" class=\"data row52 col0\" >Feature Selection</td>\n",
       "      <td id=\"T_869db_row52_col1\" class=\"data row52 col1\" >False</td>\n",
       "    </tr>\n",
       "    <tr>\n",
       "      <th id=\"T_869db_level0_row53\" class=\"row_heading level0 row53\" >53</th>\n",
       "      <td id=\"T_869db_row53_col0\" class=\"data row53 col0\" >Feature Selection Method</td>\n",
       "      <td id=\"T_869db_row53_col1\" class=\"data row53 col1\" >classic</td>\n",
       "    </tr>\n",
       "    <tr>\n",
       "      <th id=\"T_869db_level0_row54\" class=\"row_heading level0 row54\" >54</th>\n",
       "      <td id=\"T_869db_row54_col0\" class=\"data row54 col0\" >Features Selection Threshold</td>\n",
       "      <td id=\"T_869db_row54_col1\" class=\"data row54 col1\" >None</td>\n",
       "    </tr>\n",
       "    <tr>\n",
       "      <th id=\"T_869db_level0_row55\" class=\"row_heading level0 row55\" >55</th>\n",
       "      <td id=\"T_869db_row55_col0\" class=\"data row55 col0\" >Feature Interaction</td>\n",
       "      <td id=\"T_869db_row55_col1\" class=\"data row55 col1\" >False</td>\n",
       "    </tr>\n",
       "    <tr>\n",
       "      <th id=\"T_869db_level0_row56\" class=\"row_heading level0 row56\" >56</th>\n",
       "      <td id=\"T_869db_row56_col0\" class=\"data row56 col0\" >Feature Ratio</td>\n",
       "      <td id=\"T_869db_row56_col1\" class=\"data row56 col1\" >False</td>\n",
       "    </tr>\n",
       "    <tr>\n",
       "      <th id=\"T_869db_level0_row57\" class=\"row_heading level0 row57\" >57</th>\n",
       "      <td id=\"T_869db_row57_col0\" class=\"data row57 col0\" >Interaction Threshold</td>\n",
       "      <td id=\"T_869db_row57_col1\" class=\"data row57 col1\" >None</td>\n",
       "    </tr>\n",
       "    <tr>\n",
       "      <th id=\"T_869db_level0_row58\" class=\"row_heading level0 row58\" >58</th>\n",
       "      <td id=\"T_869db_row58_col0\" class=\"data row58 col0\" >Fix Imbalance</td>\n",
       "      <td id=\"T_869db_row58_col1\" class=\"data row58 col1\" >True</td>\n",
       "    </tr>\n",
       "    <tr>\n",
       "      <th id=\"T_869db_level0_row59\" class=\"row_heading level0 row59\" >59</th>\n",
       "      <td id=\"T_869db_row59_col0\" class=\"data row59 col0\" >Fix Imbalance Method</td>\n",
       "      <td id=\"T_869db_row59_col1\" class=\"data row59 col1\" >SMOTE</td>\n",
       "    </tr>\n",
       "  </tbody>\n",
       "</table>\n"
      ],
      "text/plain": [
       "<pandas.io.formats.style.Styler at 0x7fcdae13a730>"
      ]
     },
     "metadata": {},
     "output_type": "display_data"
    }
   ],
   "source": [
    "s = setup( df[[\"satisfaction\",\"evaluation\",\"averageMonthlyHours\",\"yearsAtCompany\",\"turnover\"]]\n",
    "          ,target = \"turnover\"\n",
    "          ,numeric_features = [\"yearsAtCompany\"]\n",
    "          ,normalize = True\n",
    "          ,normalize_method = \"minmax\"\n",
    "          ,data_split_stratify = True\n",
    "          ,fix_imbalance = True\n",
    "          ,fold_shuffle = True\n",
    "         )"
   ]
  },
  {
   "cell_type": "markdown",
   "id": "6612ce69",
   "metadata": {
    "tags": []
   },
   "source": [
    "#### Comparando diferentes modelos."
   ]
  },
  {
   "cell_type": "code",
   "execution_count": 62,
   "id": "02172f9a",
   "metadata": {},
   "outputs": [
    {
     "data": {
      "text/html": [
       "<style type=\"text/css\">\n",
       "#T_b6b5e_ th {\n",
       "  text-align: left;\n",
       "}\n",
       "#T_b6b5e_row0_col0, #T_b6b5e_row0_col1, #T_b6b5e_row0_col3, #T_b6b5e_row0_col4, #T_b6b5e_row0_col5, #T_b6b5e_row0_col6, #T_b6b5e_row0_col7, #T_b6b5e_row1_col0, #T_b6b5e_row1_col2, #T_b6b5e_row1_col3, #T_b6b5e_row2_col0, #T_b6b5e_row2_col1, #T_b6b5e_row2_col2, #T_b6b5e_row2_col3, #T_b6b5e_row2_col4, #T_b6b5e_row2_col5, #T_b6b5e_row2_col6, #T_b6b5e_row2_col7, #T_b6b5e_row3_col0, #T_b6b5e_row3_col1, #T_b6b5e_row3_col2, #T_b6b5e_row3_col3, #T_b6b5e_row3_col4, #T_b6b5e_row3_col5, #T_b6b5e_row3_col6, #T_b6b5e_row3_col7, #T_b6b5e_row4_col0, #T_b6b5e_row4_col1, #T_b6b5e_row4_col2, #T_b6b5e_row4_col3, #T_b6b5e_row4_col4, #T_b6b5e_row4_col5, #T_b6b5e_row4_col6, #T_b6b5e_row4_col7, #T_b6b5e_row5_col0, #T_b6b5e_row5_col1, #T_b6b5e_row5_col2, #T_b6b5e_row5_col3, #T_b6b5e_row5_col4, #T_b6b5e_row5_col5, #T_b6b5e_row5_col6, #T_b6b5e_row5_col7, #T_b6b5e_row6_col0, #T_b6b5e_row6_col1, #T_b6b5e_row6_col2, #T_b6b5e_row6_col3, #T_b6b5e_row6_col4, #T_b6b5e_row6_col5, #T_b6b5e_row6_col6, #T_b6b5e_row6_col7, #T_b6b5e_row7_col0, #T_b6b5e_row7_col1, #T_b6b5e_row7_col2, #T_b6b5e_row7_col4, #T_b6b5e_row7_col5, #T_b6b5e_row7_col6, #T_b6b5e_row7_col7, #T_b6b5e_row8_col0, #T_b6b5e_row8_col1, #T_b6b5e_row8_col2, #T_b6b5e_row8_col3, #T_b6b5e_row8_col4, #T_b6b5e_row8_col5, #T_b6b5e_row8_col6, #T_b6b5e_row8_col7, #T_b6b5e_row9_col0, #T_b6b5e_row9_col1, #T_b6b5e_row9_col2, #T_b6b5e_row9_col3, #T_b6b5e_row9_col4, #T_b6b5e_row9_col5, #T_b6b5e_row9_col6, #T_b6b5e_row9_col7, #T_b6b5e_row10_col0, #T_b6b5e_row10_col1, #T_b6b5e_row10_col2, #T_b6b5e_row10_col3, #T_b6b5e_row10_col4, #T_b6b5e_row10_col5, #T_b6b5e_row10_col6, #T_b6b5e_row10_col7, #T_b6b5e_row11_col0, #T_b6b5e_row11_col1, #T_b6b5e_row11_col2, #T_b6b5e_row11_col3, #T_b6b5e_row11_col4, #T_b6b5e_row11_col5, #T_b6b5e_row11_col6, #T_b6b5e_row11_col7, #T_b6b5e_row12_col0, #T_b6b5e_row12_col1, #T_b6b5e_row12_col2, #T_b6b5e_row12_col3, #T_b6b5e_row12_col4, #T_b6b5e_row12_col5, #T_b6b5e_row12_col6, #T_b6b5e_row12_col7, #T_b6b5e_row13_col0, #T_b6b5e_row13_col1, #T_b6b5e_row13_col2, #T_b6b5e_row13_col3, #T_b6b5e_row13_col4, #T_b6b5e_row13_col5, #T_b6b5e_row13_col6, #T_b6b5e_row13_col7, #T_b6b5e_row14_col0, #T_b6b5e_row14_col1, #T_b6b5e_row14_col2, #T_b6b5e_row14_col3, #T_b6b5e_row14_col4, #T_b6b5e_row14_col5, #T_b6b5e_row14_col6, #T_b6b5e_row14_col7, #T_b6b5e_row15_col0, #T_b6b5e_row15_col1, #T_b6b5e_row15_col2, #T_b6b5e_row15_col3, #T_b6b5e_row15_col4, #T_b6b5e_row15_col5, #T_b6b5e_row15_col6, #T_b6b5e_row15_col7 {\n",
       "  text-align: left;\n",
       "}\n",
       "#T_b6b5e_row0_col2, #T_b6b5e_row1_col1, #T_b6b5e_row1_col4, #T_b6b5e_row1_col5, #T_b6b5e_row1_col6, #T_b6b5e_row1_col7, #T_b6b5e_row7_col3 {\n",
       "  text-align: left;\n",
       "  background-color: yellow;\n",
       "}\n",
       "#T_b6b5e_row0_col8, #T_b6b5e_row1_col8, #T_b6b5e_row2_col8, #T_b6b5e_row3_col8, #T_b6b5e_row4_col8, #T_b6b5e_row5_col8, #T_b6b5e_row6_col8, #T_b6b5e_row7_col8, #T_b6b5e_row8_col8, #T_b6b5e_row9_col8, #T_b6b5e_row10_col8, #T_b6b5e_row11_col8, #T_b6b5e_row12_col8, #T_b6b5e_row14_col8, #T_b6b5e_row15_col8 {\n",
       "  text-align: left;\n",
       "  background-color: lightgrey;\n",
       "}\n",
       "#T_b6b5e_row13_col8 {\n",
       "  text-align: left;\n",
       "  background-color: yellow;\n",
       "  background-color: lightgrey;\n",
       "}\n",
       "</style>\n",
       "<table id=\"T_b6b5e_\">\n",
       "  <thead>\n",
       "    <tr>\n",
       "      <th class=\"blank level0\" >&nbsp;</th>\n",
       "      <th class=\"col_heading level0 col0\" >Model</th>\n",
       "      <th class=\"col_heading level0 col1\" >Accuracy</th>\n",
       "      <th class=\"col_heading level0 col2\" >AUC</th>\n",
       "      <th class=\"col_heading level0 col3\" >Recall</th>\n",
       "      <th class=\"col_heading level0 col4\" >Prec.</th>\n",
       "      <th class=\"col_heading level0 col5\" >F1</th>\n",
       "      <th class=\"col_heading level0 col6\" >Kappa</th>\n",
       "      <th class=\"col_heading level0 col7\" >MCC</th>\n",
       "      <th class=\"col_heading level0 col8\" >TT (Sec)</th>\n",
       "    </tr>\n",
       "  </thead>\n",
       "  <tbody>\n",
       "    <tr>\n",
       "      <th id=\"T_b6b5e_level0_row0\" class=\"row_heading level0 row0\" >gbc</th>\n",
       "      <td id=\"T_b6b5e_row0_col0\" class=\"data row0 col0\" >Gradient Boosting Classifier</td>\n",
       "      <td id=\"T_b6b5e_row0_col1\" class=\"data row0 col1\" >0.8219</td>\n",
       "      <td id=\"T_b6b5e_row0_col2\" class=\"data row0 col2\" >0.8020</td>\n",
       "      <td id=\"T_b6b5e_row0_col3\" class=\"data row0 col3\" >0.6795</td>\n",
       "      <td id=\"T_b6b5e_row0_col4\" class=\"data row0 col4\" >0.6143</td>\n",
       "      <td id=\"T_b6b5e_row0_col5\" class=\"data row0 col5\" >0.6449</td>\n",
       "      <td id=\"T_b6b5e_row0_col6\" class=\"data row0 col6\" >0.5265</td>\n",
       "      <td id=\"T_b6b5e_row0_col7\" class=\"data row0 col7\" >0.5280</td>\n",
       "      <td id=\"T_b6b5e_row0_col8\" class=\"data row0 col8\" >0.3200</td>\n",
       "    </tr>\n",
       "    <tr>\n",
       "      <th id=\"T_b6b5e_level0_row1\" class=\"row_heading level0 row1\" >catboost</th>\n",
       "      <td id=\"T_b6b5e_row1_col0\" class=\"data row1 col0\" >CatBoost Classifier</td>\n",
       "      <td id=\"T_b6b5e_row1_col1\" class=\"data row1 col1\" >0.8404</td>\n",
       "      <td id=\"T_b6b5e_row1_col2\" class=\"data row1 col2\" >0.7995</td>\n",
       "      <td id=\"T_b6b5e_row1_col3\" class=\"data row1 col3\" >0.6435</td>\n",
       "      <td id=\"T_b6b5e_row1_col4\" class=\"data row1 col4\" >0.6721</td>\n",
       "      <td id=\"T_b6b5e_row1_col5\" class=\"data row1 col5\" >0.6574</td>\n",
       "      <td id=\"T_b6b5e_row1_col6\" class=\"data row1 col6\" >0.5534</td>\n",
       "      <td id=\"T_b6b5e_row1_col7\" class=\"data row1 col7\" >0.5537</td>\n",
       "      <td id=\"T_b6b5e_row1_col8\" class=\"data row1 col8\" >5.7260</td>\n",
       "    </tr>\n",
       "    <tr>\n",
       "      <th id=\"T_b6b5e_level0_row2\" class=\"row_heading level0 row2\" >lightgbm</th>\n",
       "      <td id=\"T_b6b5e_row2_col0\" class=\"data row2 col0\" >Light Gradient Boosting Machine</td>\n",
       "      <td id=\"T_b6b5e_row2_col1\" class=\"data row2 col1\" >0.8392</td>\n",
       "      <td id=\"T_b6b5e_row2_col2\" class=\"data row2 col2\" >0.7968</td>\n",
       "      <td id=\"T_b6b5e_row2_col3\" class=\"data row2 col3\" >0.6399</td>\n",
       "      <td id=\"T_b6b5e_row2_col4\" class=\"data row2 col4\" >0.6700</td>\n",
       "      <td id=\"T_b6b5e_row2_col5\" class=\"data row2 col5\" >0.6545</td>\n",
       "      <td id=\"T_b6b5e_row2_col6\" class=\"data row2 col6\" >0.5498</td>\n",
       "      <td id=\"T_b6b5e_row2_col7\" class=\"data row2 col7\" >0.5501</td>\n",
       "      <td id=\"T_b6b5e_row2_col8\" class=\"data row2 col8\" >0.0900</td>\n",
       "    </tr>\n",
       "    <tr>\n",
       "      <th id=\"T_b6b5e_level0_row3\" class=\"row_heading level0 row3\" >ada</th>\n",
       "      <td id=\"T_b6b5e_row3_col0\" class=\"data row3 col0\" >Ada Boost Classifier</td>\n",
       "      <td id=\"T_b6b5e_row3_col1\" class=\"data row3 col1\" >0.7934</td>\n",
       "      <td id=\"T_b6b5e_row3_col2\" class=\"data row3 col2\" >0.7926</td>\n",
       "      <td id=\"T_b6b5e_row3_col3\" class=\"data row3 col3\" >0.6923</td>\n",
       "      <td id=\"T_b6b5e_row3_col4\" class=\"data row3 col4\" >0.5534</td>\n",
       "      <td id=\"T_b6b5e_row3_col5\" class=\"data row3 col5\" >0.6147</td>\n",
       "      <td id=\"T_b6b5e_row3_col6\" class=\"data row3 col6\" >0.4760</td>\n",
       "      <td id=\"T_b6b5e_row3_col7\" class=\"data row3 col7\" >0.4819</td>\n",
       "      <td id=\"T_b6b5e_row3_col8\" class=\"data row3 col8\" >0.1380</td>\n",
       "    </tr>\n",
       "    <tr>\n",
       "      <th id=\"T_b6b5e_level0_row4\" class=\"row_heading level0 row4\" >xgboost</th>\n",
       "      <td id=\"T_b6b5e_row4_col0\" class=\"data row4 col0\" >Extreme Gradient Boosting</td>\n",
       "      <td id=\"T_b6b5e_row4_col1\" class=\"data row4 col1\" >0.8315</td>\n",
       "      <td id=\"T_b6b5e_row4_col2\" class=\"data row4 col2\" >0.7910</td>\n",
       "      <td id=\"T_b6b5e_row4_col3\" class=\"data row4 col3\" >0.6002</td>\n",
       "      <td id=\"T_b6b5e_row4_col4\" class=\"data row4 col4\" >0.6610</td>\n",
       "      <td id=\"T_b6b5e_row4_col5\" class=\"data row4 col5\" >0.6291</td>\n",
       "      <td id=\"T_b6b5e_row4_col6\" class=\"data row4 col6\" >0.5204</td>\n",
       "      <td id=\"T_b6b5e_row4_col7\" class=\"data row4 col7\" >0.5215</td>\n",
       "      <td id=\"T_b6b5e_row4_col8\" class=\"data row4 col8\" >45.9180</td>\n",
       "    </tr>\n",
       "    <tr>\n",
       "      <th id=\"T_b6b5e_level0_row5\" class=\"row_heading level0 row5\" >rf</th>\n",
       "      <td id=\"T_b6b5e_row5_col0\" class=\"data row5 col0\" >Random Forest Classifier</td>\n",
       "      <td id=\"T_b6b5e_row5_col1\" class=\"data row5 col1\" >0.8079</td>\n",
       "      <td id=\"T_b6b5e_row5_col2\" class=\"data row5 col2\" >0.7741</td>\n",
       "      <td id=\"T_b6b5e_row5_col3\" class=\"data row5 col3\" >0.5466</td>\n",
       "      <td id=\"T_b6b5e_row5_col4\" class=\"data row5 col4\" >0.6075</td>\n",
       "      <td id=\"T_b6b5e_row5_col5\" class=\"data row5 col5\" >0.5754</td>\n",
       "      <td id=\"T_b6b5e_row5_col6\" class=\"data row5 col6\" >0.4517</td>\n",
       "      <td id=\"T_b6b5e_row5_col7\" class=\"data row5 col7\" >0.4528</td>\n",
       "      <td id=\"T_b6b5e_row5_col8\" class=\"data row5 col8\" >0.4980</td>\n",
       "    </tr>\n",
       "    <tr>\n",
       "      <th id=\"T_b6b5e_level0_row6\" class=\"row_heading level0 row6\" >knn</th>\n",
       "      <td id=\"T_b6b5e_row6_col0\" class=\"data row6 col0\" >K Neighbors Classifier</td>\n",
       "      <td id=\"T_b6b5e_row6_col1\" class=\"data row6 col1\" >0.7312</td>\n",
       "      <td id=\"T_b6b5e_row6_col2\" class=\"data row6 col2\" >0.7514</td>\n",
       "      <td id=\"T_b6b5e_row6_col3\" class=\"data row6 col3\" >0.6767</td>\n",
       "      <td id=\"T_b6b5e_row6_col4\" class=\"data row6 col4\" >0.4565</td>\n",
       "      <td id=\"T_b6b5e_row6_col5\" class=\"data row6 col5\" >0.5451</td>\n",
       "      <td id=\"T_b6b5e_row6_col6\" class=\"data row6 col6\" >0.3644</td>\n",
       "      <td id=\"T_b6b5e_row6_col7\" class=\"data row6 col7\" >0.3787</td>\n",
       "      <td id=\"T_b6b5e_row6_col8\" class=\"data row6 col8\" >0.5960</td>\n",
       "    </tr>\n",
       "    <tr>\n",
       "      <th id=\"T_b6b5e_level0_row7\" class=\"row_heading level0 row7\" >qda</th>\n",
       "      <td id=\"T_b6b5e_row7_col0\" class=\"data row7 col0\" >Quadratic Discriminant Analysis</td>\n",
       "      <td id=\"T_b6b5e_row7_col1\" class=\"data row7 col1\" >0.7174</td>\n",
       "      <td id=\"T_b6b5e_row7_col2\" class=\"data row7 col2\" >0.7471</td>\n",
       "      <td id=\"T_b6b5e_row7_col3\" class=\"data row7 col3\" >0.7415</td>\n",
       "      <td id=\"T_b6b5e_row7_col4\" class=\"data row7 col4\" >0.4440</td>\n",
       "      <td id=\"T_b6b5e_row7_col5\" class=\"data row7 col5\" >0.5554</td>\n",
       "      <td id=\"T_b6b5e_row7_col6\" class=\"data row7 col6\" >0.3668</td>\n",
       "      <td id=\"T_b6b5e_row7_col7\" class=\"data row7 col7\" >0.3928</td>\n",
       "      <td id=\"T_b6b5e_row7_col8\" class=\"data row7 col8\" >0.0240</td>\n",
       "    </tr>\n",
       "    <tr>\n",
       "      <th id=\"T_b6b5e_level0_row8\" class=\"row_heading level0 row8\" >et</th>\n",
       "      <td id=\"T_b6b5e_row8_col0\" class=\"data row8 col0\" >Extra Trees Classifier</td>\n",
       "      <td id=\"T_b6b5e_row8_col1\" class=\"data row8 col1\" >0.8002</td>\n",
       "      <td id=\"T_b6b5e_row8_col2\" class=\"data row8 col2\" >0.7465</td>\n",
       "      <td id=\"T_b6b5e_row8_col3\" class=\"data row8 col3\" >0.5310</td>\n",
       "      <td id=\"T_b6b5e_row8_col4\" class=\"data row8 col4\" >0.5892</td>\n",
       "      <td id=\"T_b6b5e_row8_col5\" class=\"data row8 col5\" >0.5585</td>\n",
       "      <td id=\"T_b6b5e_row8_col6\" class=\"data row8 col6\" >0.4298</td>\n",
       "      <td id=\"T_b6b5e_row8_col7\" class=\"data row8 col7\" >0.4308</td>\n",
       "      <td id=\"T_b6b5e_row8_col8\" class=\"data row8 col8\" >0.3780</td>\n",
       "    </tr>\n",
       "    <tr>\n",
       "      <th id=\"T_b6b5e_level0_row9\" class=\"row_heading level0 row9\" >nb</th>\n",
       "      <td id=\"T_b6b5e_row9_col0\" class=\"data row9 col0\" >Naive Bayes</td>\n",
       "      <td id=\"T_b6b5e_row9_col1\" class=\"data row9 col1\" >0.7061</td>\n",
       "      <td id=\"T_b6b5e_row9_col2\" class=\"data row9 col2\" >0.7125</td>\n",
       "      <td id=\"T_b6b5e_row9_col3\" class=\"data row9 col3\" >0.5830</td>\n",
       "      <td id=\"T_b6b5e_row9_col4\" class=\"data row9 col4\" >0.4164</td>\n",
       "      <td id=\"T_b6b5e_row9_col5\" class=\"data row9 col5\" >0.4857</td>\n",
       "      <td id=\"T_b6b5e_row9_col6\" class=\"data row9 col6\" >0.2880</td>\n",
       "      <td id=\"T_b6b5e_row9_col7\" class=\"data row9 col7\" >0.2960</td>\n",
       "      <td id=\"T_b6b5e_row9_col8\" class=\"data row9 col8\" >0.0220</td>\n",
       "    </tr>\n",
       "    <tr>\n",
       "      <th id=\"T_b6b5e_level0_row10\" class=\"row_heading level0 row10\" >lr</th>\n",
       "      <td id=\"T_b6b5e_row10_col0\" class=\"data row10 col0\" >Logistic Regression</td>\n",
       "      <td id=\"T_b6b5e_row10_col1\" class=\"data row10 col1\" >0.6749</td>\n",
       "      <td id=\"T_b6b5e_row10_col2\" class=\"data row10 col2\" >0.6947</td>\n",
       "      <td id=\"T_b6b5e_row10_col3\" class=\"data row10 col3\" >0.6307</td>\n",
       "      <td id=\"T_b6b5e_row10_col4\" class=\"data row10 col4\" >0.3878</td>\n",
       "      <td id=\"T_b6b5e_row10_col5\" class=\"data row10 col5\" >0.4801</td>\n",
       "      <td id=\"T_b6b5e_row10_col6\" class=\"data row10 col6\" >0.2628</td>\n",
       "      <td id=\"T_b6b5e_row10_col7\" class=\"data row10 col7\" >0.2794</td>\n",
       "      <td id=\"T_b6b5e_row10_col8\" class=\"data row10 col8\" >0.8700</td>\n",
       "    </tr>\n",
       "    <tr>\n",
       "      <th id=\"T_b6b5e_level0_row11\" class=\"row_heading level0 row11\" >lda</th>\n",
       "      <td id=\"T_b6b5e_row11_col0\" class=\"data row11 col0\" >Linear Discriminant Analysis</td>\n",
       "      <td id=\"T_b6b5e_row11_col1\" class=\"data row11 col1\" >0.6768</td>\n",
       "      <td id=\"T_b6b5e_row11_col2\" class=\"data row11 col2\" >0.6939</td>\n",
       "      <td id=\"T_b6b5e_row11_col3\" class=\"data row11 col3\" >0.6255</td>\n",
       "      <td id=\"T_b6b5e_row11_col4\" class=\"data row11 col4\" >0.3890</td>\n",
       "      <td id=\"T_b6b5e_row11_col5\" class=\"data row11 col5\" >0.4795</td>\n",
       "      <td id=\"T_b6b5e_row11_col6\" class=\"data row11 col6\" >0.2633</td>\n",
       "      <td id=\"T_b6b5e_row11_col7\" class=\"data row11 col7\" >0.2790</td>\n",
       "      <td id=\"T_b6b5e_row11_col8\" class=\"data row11 col8\" >0.0320</td>\n",
       "    </tr>\n",
       "    <tr>\n",
       "      <th id=\"T_b6b5e_level0_row12\" class=\"row_heading level0 row12\" >dt</th>\n",
       "      <td id=\"T_b6b5e_row12_col0\" class=\"data row12 col0\" >Decision Tree Classifier</td>\n",
       "      <td id=\"T_b6b5e_row12_col1\" class=\"data row12 col1\" >0.7294</td>\n",
       "      <td id=\"T_b6b5e_row12_col2\" class=\"data row12 col2\" >0.6555</td>\n",
       "      <td id=\"T_b6b5e_row12_col3\" class=\"data row12 col3\" >0.4846</td>\n",
       "      <td id=\"T_b6b5e_row12_col4\" class=\"data row12 col4\" >0.4387</td>\n",
       "      <td id=\"T_b6b5e_row12_col5\" class=\"data row12 col5\" >0.4604</td>\n",
       "      <td id=\"T_b6b5e_row12_col6\" class=\"data row12 col6\" >0.2804</td>\n",
       "      <td id=\"T_b6b5e_row12_col7\" class=\"data row12 col7\" >0.2811</td>\n",
       "      <td id=\"T_b6b5e_row12_col8\" class=\"data row12 col8\" >0.0320</td>\n",
       "    </tr>\n",
       "    <tr>\n",
       "      <th id=\"T_b6b5e_level0_row13\" class=\"row_heading level0 row13\" >dummy</th>\n",
       "      <td id=\"T_b6b5e_row13_col0\" class=\"data row13 col0\" >Dummy Classifier</td>\n",
       "      <td id=\"T_b6b5e_row13_col1\" class=\"data row13 col1\" >0.7620</td>\n",
       "      <td id=\"T_b6b5e_row13_col2\" class=\"data row13 col2\" >0.5000</td>\n",
       "      <td id=\"T_b6b5e_row13_col3\" class=\"data row13 col3\" >0.0000</td>\n",
       "      <td id=\"T_b6b5e_row13_col4\" class=\"data row13 col4\" >0.0000</td>\n",
       "      <td id=\"T_b6b5e_row13_col5\" class=\"data row13 col5\" >0.0000</td>\n",
       "      <td id=\"T_b6b5e_row13_col6\" class=\"data row13 col6\" >0.0000</td>\n",
       "      <td id=\"T_b6b5e_row13_col7\" class=\"data row13 col7\" >0.0000</td>\n",
       "      <td id=\"T_b6b5e_row13_col8\" class=\"data row13 col8\" >0.0200</td>\n",
       "    </tr>\n",
       "    <tr>\n",
       "      <th id=\"T_b6b5e_level0_row14\" class=\"row_heading level0 row14\" >svm</th>\n",
       "      <td id=\"T_b6b5e_row14_col0\" class=\"data row14 col0\" >SVM - Linear Kernel</td>\n",
       "      <td id=\"T_b6b5e_row14_col1\" class=\"data row14 col1\" >0.6532</td>\n",
       "      <td id=\"T_b6b5e_row14_col2\" class=\"data row14 col2\" >0.0000</td>\n",
       "      <td id=\"T_b6b5e_row14_col3\" class=\"data row14 col3\" >0.6335</td>\n",
       "      <td id=\"T_b6b5e_row14_col4\" class=\"data row14 col4\" >0.3701</td>\n",
       "      <td id=\"T_b6b5e_row14_col5\" class=\"data row14 col5\" >0.4659</td>\n",
       "      <td id=\"T_b6b5e_row14_col6\" class=\"data row14 col6\" >0.2360</td>\n",
       "      <td id=\"T_b6b5e_row14_col7\" class=\"data row14 col7\" >0.2550</td>\n",
       "      <td id=\"T_b6b5e_row14_col8\" class=\"data row14 col8\" >0.0320</td>\n",
       "    </tr>\n",
       "    <tr>\n",
       "      <th id=\"T_b6b5e_level0_row15\" class=\"row_heading level0 row15\" >ridge</th>\n",
       "      <td id=\"T_b6b5e_row15_col0\" class=\"data row15 col0\" >Ridge Classifier</td>\n",
       "      <td id=\"T_b6b5e_row15_col1\" class=\"data row15 col1\" >0.6769</td>\n",
       "      <td id=\"T_b6b5e_row15_col2\" class=\"data row15 col2\" >0.0000</td>\n",
       "      <td id=\"T_b6b5e_row15_col3\" class=\"data row15 col3\" >0.6255</td>\n",
       "      <td id=\"T_b6b5e_row15_col4\" class=\"data row15 col4\" >0.3891</td>\n",
       "      <td id=\"T_b6b5e_row15_col5\" class=\"data row15 col5\" >0.4796</td>\n",
       "      <td id=\"T_b6b5e_row15_col6\" class=\"data row15 col6\" >0.2634</td>\n",
       "      <td id=\"T_b6b5e_row15_col7\" class=\"data row15 col7\" >0.2791</td>\n",
       "      <td id=\"T_b6b5e_row15_col8\" class=\"data row15 col8\" >0.0220</td>\n",
       "    </tr>\n",
       "  </tbody>\n",
       "</table>\n"
      ],
      "text/plain": [
       "<pandas.io.formats.style.Styler at 0x7fcdae0a5910>"
      ]
     },
     "metadata": {},
     "output_type": "display_data"
    }
   ],
   "source": [
    "best = compare_models(fold = 5,sort = 'AUC')"
   ]
  },
  {
   "cell_type": "markdown",
   "id": "d6af08bc",
   "metadata": {},
   "source": [
    "#### Criando o modelo."
   ]
  },
  {
   "cell_type": "code",
   "execution_count": 63,
   "id": "edcf1615",
   "metadata": {
    "scrolled": true
   },
   "outputs": [
    {
     "data": {
      "text/html": [
       "<style type=\"text/css\">\n",
       "#T_5e6d3_row5_col0, #T_5e6d3_row5_col1, #T_5e6d3_row5_col2, #T_5e6d3_row5_col3, #T_5e6d3_row5_col4, #T_5e6d3_row5_col5, #T_5e6d3_row5_col6 {\n",
       "  background: yellow;\n",
       "}\n",
       "</style>\n",
       "<table id=\"T_5e6d3_\">\n",
       "  <thead>\n",
       "    <tr>\n",
       "      <th class=\"blank level0\" >&nbsp;</th>\n",
       "      <th class=\"col_heading level0 col0\" >Accuracy</th>\n",
       "      <th class=\"col_heading level0 col1\" >AUC</th>\n",
       "      <th class=\"col_heading level0 col2\" >Recall</th>\n",
       "      <th class=\"col_heading level0 col3\" >Prec.</th>\n",
       "      <th class=\"col_heading level0 col4\" >F1</th>\n",
       "      <th class=\"col_heading level0 col5\" >Kappa</th>\n",
       "      <th class=\"col_heading level0 col6\" >MCC</th>\n",
       "    </tr>\n",
       "  </thead>\n",
       "  <tbody>\n",
       "    <tr>\n",
       "      <th id=\"T_5e6d3_level0_row0\" class=\"row_heading level0 row0\" >0</th>\n",
       "      <td id=\"T_5e6d3_row0_col0\" class=\"data row0 col0\" >0.8252</td>\n",
       "      <td id=\"T_5e6d3_row0_col1\" class=\"data row0 col1\" >0.7944</td>\n",
       "      <td id=\"T_5e6d3_row0_col2\" class=\"data row0 col2\" >0.6480</td>\n",
       "      <td id=\"T_5e6d3_row0_col3\" class=\"data row0 col3\" >0.6291</td>\n",
       "      <td id=\"T_5e6d3_row0_col4\" class=\"data row0 col4\" >0.6384</td>\n",
       "      <td id=\"T_5e6d3_row0_col5\" class=\"data row0 col5\" >0.5232</td>\n",
       "      <td id=\"T_5e6d3_row0_col6\" class=\"data row0 col6\" >0.5233</td>\n",
       "    </tr>\n",
       "    <tr>\n",
       "      <th id=\"T_5e6d3_level0_row1\" class=\"row_heading level0 row1\" >1</th>\n",
       "      <td id=\"T_5e6d3_row1_col0\" class=\"data row1 col0\" >0.8238</td>\n",
       "      <td id=\"T_5e6d3_row1_col1\" class=\"data row1 col1\" >0.8023</td>\n",
       "      <td id=\"T_5e6d3_row1_col2\" class=\"data row1 col2\" >0.6780</td>\n",
       "      <td id=\"T_5e6d3_row1_col3\" class=\"data row1 col3\" >0.6186</td>\n",
       "      <td id=\"T_5e6d3_row1_col4\" class=\"data row1 col4\" >0.6469</td>\n",
       "      <td id=\"T_5e6d3_row1_col5\" class=\"data row1 col5\" >0.5299</td>\n",
       "      <td id=\"T_5e6d3_row1_col6\" class=\"data row1 col6\" >0.5309</td>\n",
       "    </tr>\n",
       "    <tr>\n",
       "      <th id=\"T_5e6d3_level0_row2\" class=\"row_heading level0 row2\" >2</th>\n",
       "      <td id=\"T_5e6d3_row2_col0\" class=\"data row2 col0\" >0.8257</td>\n",
       "      <td id=\"T_5e6d3_row2_col1\" class=\"data row2 col1\" >0.8010</td>\n",
       "      <td id=\"T_5e6d3_row2_col2\" class=\"data row2 col2\" >0.6900</td>\n",
       "      <td id=\"T_5e6d3_row2_col3\" class=\"data row2 col3\" >0.6205</td>\n",
       "      <td id=\"T_5e6d3_row2_col4\" class=\"data row2 col4\" >0.6534</td>\n",
       "      <td id=\"T_5e6d3_row2_col5\" class=\"data row2 col5\" >0.5374</td>\n",
       "      <td id=\"T_5e6d3_row2_col6\" class=\"data row2 col6\" >0.5388</td>\n",
       "    </tr>\n",
       "    <tr>\n",
       "      <th id=\"T_5e6d3_level0_row3\" class=\"row_heading level0 row3\" >3</th>\n",
       "      <td id=\"T_5e6d3_row3_col0\" class=\"data row3 col0\" >0.8118</td>\n",
       "      <td id=\"T_5e6d3_row3_col1\" class=\"data row3 col1\" >0.8103</td>\n",
       "      <td id=\"T_5e6d3_row3_col2\" class=\"data row3 col2\" >0.7054</td>\n",
       "      <td id=\"T_5e6d3_row3_col3\" class=\"data row3 col3\" >0.5867</td>\n",
       "      <td id=\"T_5e6d3_row3_col4\" class=\"data row3 col4\" >0.6406</td>\n",
       "      <td id=\"T_5e6d3_row3_col5\" class=\"data row3 col5\" >0.5146</td>\n",
       "      <td id=\"T_5e6d3_row3_col6\" class=\"data row3 col6\" >0.5186</td>\n",
       "    </tr>\n",
       "    <tr>\n",
       "      <th id=\"T_5e6d3_level0_row4\" class=\"row_heading level0 row4\" >4</th>\n",
       "      <td id=\"T_5e6d3_row4_col0\" class=\"data row4 col0\" >0.8228</td>\n",
       "      <td id=\"T_5e6d3_row4_col1\" class=\"data row4 col1\" >0.8021</td>\n",
       "      <td id=\"T_5e6d3_row4_col2\" class=\"data row4 col2\" >0.6760</td>\n",
       "      <td id=\"T_5e6d3_row4_col3\" class=\"data row4 col3\" >0.6168</td>\n",
       "      <td id=\"T_5e6d3_row4_col4\" class=\"data row4 col4\" >0.6450</td>\n",
       "      <td id=\"T_5e6d3_row4_col5\" class=\"data row4 col5\" >0.5273</td>\n",
       "      <td id=\"T_5e6d3_row4_col6\" class=\"data row4 col6\" >0.5283</td>\n",
       "    </tr>\n",
       "    <tr>\n",
       "      <th id=\"T_5e6d3_level0_row5\" class=\"row_heading level0 row5\" >Mean</th>\n",
       "      <td id=\"T_5e6d3_row5_col0\" class=\"data row5 col0\" >0.8219</td>\n",
       "      <td id=\"T_5e6d3_row5_col1\" class=\"data row5 col1\" >0.8020</td>\n",
       "      <td id=\"T_5e6d3_row5_col2\" class=\"data row5 col2\" >0.6795</td>\n",
       "      <td id=\"T_5e6d3_row5_col3\" class=\"data row5 col3\" >0.6143</td>\n",
       "      <td id=\"T_5e6d3_row5_col4\" class=\"data row5 col4\" >0.6449</td>\n",
       "      <td id=\"T_5e6d3_row5_col5\" class=\"data row5 col5\" >0.5265</td>\n",
       "      <td id=\"T_5e6d3_row5_col6\" class=\"data row5 col6\" >0.5280</td>\n",
       "    </tr>\n",
       "    <tr>\n",
       "      <th id=\"T_5e6d3_level0_row6\" class=\"row_heading level0 row6\" >SD</th>\n",
       "      <td id=\"T_5e6d3_row6_col0\" class=\"data row6 col0\" >0.0051</td>\n",
       "      <td id=\"T_5e6d3_row6_col1\" class=\"data row6 col1\" >0.0051</td>\n",
       "      <td id=\"T_5e6d3_row6_col2\" class=\"data row6 col2\" >0.0189</td>\n",
       "      <td id=\"T_5e6d3_row6_col3\" class=\"data row6 col3\" >0.0145</td>\n",
       "      <td id=\"T_5e6d3_row6_col4\" class=\"data row6 col4\" >0.0052</td>\n",
       "      <td id=\"T_5e6d3_row6_col5\" class=\"data row6 col5\" >0.0075</td>\n",
       "      <td id=\"T_5e6d3_row6_col6\" class=\"data row6 col6\" >0.0069</td>\n",
       "    </tr>\n",
       "  </tbody>\n",
       "</table>\n"
      ],
      "text/plain": [
       "<pandas.io.formats.style.Styler at 0x7fcdae25cf70>"
      ]
     },
     "metadata": {},
     "output_type": "display_data"
    }
   ],
   "source": [
    "gbc = create_model('gbc', fold = 5)"
   ]
  },
  {
   "cell_type": "markdown",
   "id": "22ab7ba2",
   "metadata": {},
   "source": [
    "#### Realizando o tunning do modelo."
   ]
  },
  {
   "cell_type": "code",
   "execution_count": null,
   "id": "3f02f806",
   "metadata": {
    "scrolled": false,
    "tags": []
   },
   "outputs": [],
   "source": [
    "tuned_gbc = tune_model(gbc\n",
    "                      ,fold = 5\n",
    "                      ,custom_grid = {\n",
    "                                      \"learning_rate\":[0.1,0.2,0.5]\n",
    "                                     ,\"n_estimators\":[100,500,1000]\n",
    "                                     ,\"min_samples_split\":[1,2,5,10]\n",
    "                                     ,\"max_depth\":[1,3,9]\n",
    "                                     }\n",
    "                      ,optimize = 'AUC')"
   ]
  },
  {
   "cell_type": "code",
   "execution_count": 64,
   "id": "4737cdd4",
   "metadata": {},
   "outputs": [
    {
     "data": {
      "text/html": [
       "<div>\n",
       "<style scoped>\n",
       "    .dataframe tbody tr th:only-of-type {\n",
       "        vertical-align: middle;\n",
       "    }\n",
       "\n",
       "    .dataframe tbody tr th {\n",
       "        vertical-align: top;\n",
       "    }\n",
       "\n",
       "    .dataframe thead th {\n",
       "        text-align: right;\n",
       "    }\n",
       "</style>\n",
       "<table border=\"1\" class=\"dataframe\">\n",
       "  <thead>\n",
       "    <tr style=\"text-align: right;\">\n",
       "      <th></th>\n",
       "      <th>department</th>\n",
       "      <th>salary</th>\n",
       "      <th>averageMonthlyHours</th>\n",
       "      <th>projectCount</th>\n",
       "      <th>satisfaction</th>\n",
       "      <th>evaluation</th>\n",
       "      <th>yearsAtCompany</th>\n",
       "      <th>workAccident</th>\n",
       "      <th>turnover</th>\n",
       "      <th>Label</th>\n",
       "      <th>Score</th>\n",
       "    </tr>\n",
       "  </thead>\n",
       "  <tbody>\n",
       "    <tr>\n",
       "      <th>0</th>\n",
       "      <td>7</td>\n",
       "      <td>1</td>\n",
       "      <td>266</td>\n",
       "      <td>2</td>\n",
       "      <td>38.0</td>\n",
       "      <td>53.0</td>\n",
       "      <td>3</td>\n",
       "      <td>0</td>\n",
       "      <td>1</td>\n",
       "      <td>1</td>\n",
       "      <td>0.8298</td>\n",
       "    </tr>\n",
       "    <tr>\n",
       "      <th>1</th>\n",
       "      <td>7</td>\n",
       "      <td>2</td>\n",
       "      <td>252</td>\n",
       "      <td>5</td>\n",
       "      <td>80.0</td>\n",
       "      <td>86.0</td>\n",
       "      <td>6</td>\n",
       "      <td>0</td>\n",
       "      <td>1</td>\n",
       "      <td>1</td>\n",
       "      <td>0.7461</td>\n",
       "    </tr>\n",
       "    <tr>\n",
       "      <th>2</th>\n",
       "      <td>7</td>\n",
       "      <td>2</td>\n",
       "      <td>289</td>\n",
       "      <td>7</td>\n",
       "      <td>11.0</td>\n",
       "      <td>88.0</td>\n",
       "      <td>4</td>\n",
       "      <td>0</td>\n",
       "      <td>1</td>\n",
       "      <td>1</td>\n",
       "      <td>0.8475</td>\n",
       "    </tr>\n",
       "    <tr>\n",
       "      <th>3</th>\n",
       "      <td>7</td>\n",
       "      <td>1</td>\n",
       "      <td>275</td>\n",
       "      <td>5</td>\n",
       "      <td>72.0</td>\n",
       "      <td>87.0</td>\n",
       "      <td>5</td>\n",
       "      <td>0</td>\n",
       "      <td>1</td>\n",
       "      <td>1</td>\n",
       "      <td>0.7967</td>\n",
       "    </tr>\n",
       "    <tr>\n",
       "      <th>4</th>\n",
       "      <td>7</td>\n",
       "      <td>1</td>\n",
       "      <td>292</td>\n",
       "      <td>2</td>\n",
       "      <td>37.0</td>\n",
       "      <td>52.0</td>\n",
       "      <td>3</td>\n",
       "      <td>0</td>\n",
       "      <td>1</td>\n",
       "      <td>1</td>\n",
       "      <td>0.8299</td>\n",
       "    </tr>\n",
       "    <tr>\n",
       "      <th>...</th>\n",
       "      <td>...</td>\n",
       "      <td>...</td>\n",
       "      <td>...</td>\n",
       "      <td>...</td>\n",
       "      <td>...</td>\n",
       "      <td>...</td>\n",
       "      <td>...</td>\n",
       "      <td>...</td>\n",
       "      <td>...</td>\n",
       "      <td>...</td>\n",
       "      <td>...</td>\n",
       "    </tr>\n",
       "    <tr>\n",
       "      <th>14993</th>\n",
       "      <td>7</td>\n",
       "      <td>1</td>\n",
       "      <td>279</td>\n",
       "      <td>6</td>\n",
       "      <td>76.0</td>\n",
       "      <td>83.0</td>\n",
       "      <td>6</td>\n",
       "      <td>0</td>\n",
       "      <td>1</td>\n",
       "      <td>1</td>\n",
       "      <td>0.7149</td>\n",
       "    </tr>\n",
       "    <tr>\n",
       "      <th>14994</th>\n",
       "      <td>7</td>\n",
       "      <td>1</td>\n",
       "      <td>287</td>\n",
       "      <td>2</td>\n",
       "      <td>40.0</td>\n",
       "      <td>57.0</td>\n",
       "      <td>3</td>\n",
       "      <td>0</td>\n",
       "      <td>1</td>\n",
       "      <td>1</td>\n",
       "      <td>0.7686</td>\n",
       "    </tr>\n",
       "    <tr>\n",
       "      <th>14995</th>\n",
       "      <td>9</td>\n",
       "      <td>1</td>\n",
       "      <td>253</td>\n",
       "      <td>2</td>\n",
       "      <td>37.0</td>\n",
       "      <td>48.0</td>\n",
       "      <td>3</td>\n",
       "      <td>0</td>\n",
       "      <td>1</td>\n",
       "      <td>1</td>\n",
       "      <td>0.8166</td>\n",
       "    </tr>\n",
       "    <tr>\n",
       "      <th>14996</th>\n",
       "      <td>9</td>\n",
       "      <td>2</td>\n",
       "      <td>288</td>\n",
       "      <td>2</td>\n",
       "      <td>37.0</td>\n",
       "      <td>53.0</td>\n",
       "      <td>3</td>\n",
       "      <td>0</td>\n",
       "      <td>1</td>\n",
       "      <td>1</td>\n",
       "      <td>0.8299</td>\n",
       "    </tr>\n",
       "    <tr>\n",
       "      <th>14997</th>\n",
       "      <td>8</td>\n",
       "      <td>1</td>\n",
       "      <td>272</td>\n",
       "      <td>6</td>\n",
       "      <td>11.0</td>\n",
       "      <td>96.0</td>\n",
       "      <td>4</td>\n",
       "      <td>0</td>\n",
       "      <td>1</td>\n",
       "      <td>1</td>\n",
       "      <td>0.8498</td>\n",
       "    </tr>\n",
       "  </tbody>\n",
       "</table>\n",
       "<p>14998 rows × 11 columns</p>\n",
       "</div>"
      ],
      "text/plain": [
       "       department  salary  averageMonthlyHours  projectCount  satisfaction  \\\n",
       "0               7       1                  266             2          38.0   \n",
       "1               7       2                  252             5          80.0   \n",
       "2               7       2                  289             7          11.0   \n",
       "3               7       1                  275             5          72.0   \n",
       "4               7       1                  292             2          37.0   \n",
       "...           ...     ...                  ...           ...           ...   \n",
       "14993           7       1                  279             6          76.0   \n",
       "14994           7       1                  287             2          40.0   \n",
       "14995           9       1                  253             2          37.0   \n",
       "14996           9       2                  288             2          37.0   \n",
       "14997           8       1                  272             6          11.0   \n",
       "\n",
       "       evaluation  yearsAtCompany  workAccident  turnover  Label   Score  \n",
       "0            53.0               3             0         1      1  0.8298  \n",
       "1            86.0               6             0         1      1  0.7461  \n",
       "2            88.0               4             0         1      1  0.8475  \n",
       "3            87.0               5             0         1      1  0.7967  \n",
       "4            52.0               3             0         1      1  0.8299  \n",
       "...           ...             ...           ...       ...    ...     ...  \n",
       "14993        83.0               6             0         1      1  0.7149  \n",
       "14994        57.0               3             0         1      1  0.7686  \n",
       "14995        48.0               3             0         1      1  0.8166  \n",
       "14996        53.0               3             0         1      1  0.8299  \n",
       "14997        96.0               4             0         1      1  0.8498  \n",
       "\n",
       "[14998 rows x 11 columns]"
      ]
     },
     "execution_count": 64,
     "metadata": {},
     "output_type": "execute_result"
    }
   ],
   "source": [
    "predict_model(gbc, data=df)"
   ]
  },
  {
   "cell_type": "markdown",
   "id": "b498f3ab",
   "metadata": {},
   "source": [
    "#### Finalizando o modelo."
   ]
  },
  {
   "cell_type": "code",
   "execution_count": 65,
   "id": "3b110ac6",
   "metadata": {},
   "outputs": [],
   "source": [
    "final_model = finalize_model(gbc)"
   ]
  },
  {
   "cell_type": "code",
   "execution_count": 66,
   "id": "d0a246f8",
   "metadata": {},
   "outputs": [
    {
     "name": "stdout",
     "output_type": "stream",
     "text": [
      "Transformation Pipeline and Model Successfully Saved\n"
     ]
    },
    {
     "data": {
      "text/plain": [
       "(Pipeline(memory=None,\n",
       "          steps=[('dtypes',\n",
       "                  DataTypes_Auto_infer(categorical_features=[],\n",
       "                                       display_types=True, features_todrop=[],\n",
       "                                       id_columns=[],\n",
       "                                       ml_usecase='classification',\n",
       "                                       numerical_features=['yearsAtCompany'],\n",
       "                                       target='turnover', time_features=[])),\n",
       "                 ('imputer',\n",
       "                  Simple_Imputer(categorical_strategy='not_available',\n",
       "                                 fill_value_categorical=None,\n",
       "                                 fill_value_numerical=...\n",
       "                                             learning_rate=0.1, loss='deviance',\n",
       "                                             max_depth=3, max_features=None,\n",
       "                                             max_leaf_nodes=None,\n",
       "                                             min_impurity_decrease=0.0,\n",
       "                                             min_impurity_split=None,\n",
       "                                             min_samples_leaf=1,\n",
       "                                             min_samples_split=2,\n",
       "                                             min_weight_fraction_leaf=0.0,\n",
       "                                             n_estimators=100,\n",
       "                                             n_iter_no_change=None,\n",
       "                                             presort='deprecated',\n",
       "                                             random_state=4596, subsample=1.0,\n",
       "                                             tol=0.0001, validation_fraction=0.1,\n",
       "                                             verbose=0, warm_start=False)]],\n",
       "          verbose=False),\n",
       " 'model.pkl')"
      ]
     },
     "execution_count": 66,
     "metadata": {},
     "output_type": "execute_result"
    }
   ],
   "source": [
    "save_model(final_model,'model')"
   ]
  },
  {
   "cell_type": "markdown",
   "id": "a87ed577",
   "metadata": {},
   "source": [
    "#### Transferindo os arquivos para o Data Lake."
   ]
  },
  {
   "cell_type": "markdown",
   "id": "3e254c1c",
   "metadata": {},
   "source": [
    "#### Modelo de Classificação."
   ]
  },
  {
   "cell_type": "code",
   "execution_count": 67,
   "id": "b438b749",
   "metadata": {},
   "outputs": [
    {
     "data": {
      "text/plain": [
       "<minio.helpers.ObjectWriteResult at 0x7fcdae2930a0>"
      ]
     },
     "execution_count": 67,
     "metadata": {},
     "output_type": "execute_result"
    }
   ],
   "source": [
    "client.fput_object(\n",
    "    \"curated\",\n",
    "    \"model.pkl\",\n",
    "    \"model.pkl\"\n",
    ")"
   ]
  },
  {
   "cell_type": "markdown",
   "id": "c8fa009d",
   "metadata": {},
   "source": [
    "#### Exportando o conjunto de dados para o disco."
   ]
  },
  {
   "cell_type": "code",
   "execution_count": 68,
   "id": "a65fc51b",
   "metadata": {
    "scrolled": true
   },
   "outputs": [],
   "source": [
    "df[[\"satisfaction\",\"evaluation\",\"averageMonthlyHours\",\"yearsAtCompany\",\"turnover\"]].to_csv(\"dataset.csv\",index=False)"
   ]
  },
  {
   "cell_type": "code",
   "execution_count": 69,
   "id": "bc43bf6c",
   "metadata": {
    "scrolled": true
   },
   "outputs": [
    {
     "data": {
      "text/plain": [
       "<minio.helpers.ObjectWriteResult at 0x7fcde5540e50>"
      ]
     },
     "execution_count": 69,
     "metadata": {},
     "output_type": "execute_result"
    }
   ],
   "source": [
    "client.fput_object(\n",
    "    \"curated\",\n",
    "    \"dataset.csv\",\n",
    "    \"dataset.csv\"\n",
    ")"
   ]
  },
  {
   "cell_type": "code",
   "execution_count": null,
   "id": "98cac935",
   "metadata": {},
   "outputs": [],
   "source": []
  }
 ],
 "metadata": {
  "kernelspec": {
   "display_name": "Python 3 (ipykernel)",
   "language": "python",
   "name": "python3"
  },
  "language_info": {
   "codemirror_mode": {
    "name": "ipython",
    "version": 3
   },
   "file_extension": ".py",
   "mimetype": "text/x-python",
   "name": "python",
   "nbconvert_exporter": "python",
   "pygments_lexer": "ipython3",
   "version": "3.8.12"
  }
 },
 "nbformat": 4,
 "nbformat_minor": 5
}
